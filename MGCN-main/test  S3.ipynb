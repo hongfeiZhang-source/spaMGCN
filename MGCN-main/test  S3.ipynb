{
 "cells": [
  {
   "cell_type": "code",
   "execution_count": 1,
   "metadata": {},
   "outputs": [
    {
     "name": "stderr",
     "output_type": "stream",
     "text": [
      "2025-03-28 14:35:14.520073: I tensorflow/core/platform/cpu_feature_guard.cc:193] This TensorFlow binary is optimized with oneAPI Deep Neural Network Library (oneDNN) to use the following CPU instructions in performance-critical operations:  AVX2 AVX512F AVX512_VNNI FMA\n",
      "To enable them in other operations, rebuild TensorFlow with the appropriate compiler flags.\n",
      "2025-03-28 14:35:14.647427: I tensorflow/core/util/port.cc:104] oneDNN custom operations are on. You may see slightly different numerical results due to floating-point round-off errors from different computation orders. To turn them off, set the environment variable `TF_ENABLE_ONEDNN_OPTS=0`.\n",
      "2025-03-28 14:35:15.213956: W tensorflow/compiler/xla/stream_executor/platform/default/dso_loader.cc:64] Could not load dynamic library 'libnvinfer.so.7'; dlerror: libnvinfer.so.7: cannot open shared object file: No such file or directory; LD_LIBRARY_PATH: /usr/local/lib:\n",
      "2025-03-28 14:35:15.214038: W tensorflow/compiler/xla/stream_executor/platform/default/dso_loader.cc:64] Could not load dynamic library 'libnvinfer_plugin.so.7'; dlerror: libnvinfer_plugin.so.7: cannot open shared object file: No such file or directory; LD_LIBRARY_PATH: /usr/local/lib:\n",
      "2025-03-28 14:35:15.214046: W tensorflow/compiler/tf2tensorrt/utils/py_utils.cc:38] TF-TRT Warning: Cannot dlopen some TensorRT libraries. If you would like to use Nvidia GPU with TensorRT, please make sure the missing libraries mentioned above are installed properly.\n"
     ]
    }
   ],
   "source": [
    "from utils.misc import *\n",
    "from train.train import Train,Test\n",
    "from datasets.data_utils import load_dataset\n",
    "from model.Creat_model import creat_model\n",
    "from utils.preprocess import *\n",
    "from utils.utils import *"
   ]
  },
  {
   "cell_type": "code",
   "execution_count": 2,
   "metadata": {},
   "outputs": [],
   "source": [
    "from torch.backends import cudnn\n",
    "def fix_seed(seed):\n",
    "    #seed = 2023\n",
    "    os.environ['PYTHONHASHSEED'] = str(seed)\n",
    "    random.seed(seed)\n",
    "    np.random.seed(seed)\n",
    "    torch.manual_seed(seed)\n",
    "    torch.cuda.manual_seed(seed)\n",
    "    torch.cuda.manual_seed_all(seed)\n",
    "    cudnn.deterministic = True\n",
    "    cudnn.benchmark = False\n",
    "    \n",
    "    os.environ['PYTHONHASHSEED'] = str(seed)\n",
    "    os.environ['CUBLAS_WORKSPACE_CONFIG'] = ':4096:8'   "
   ]
  },
  {
   "cell_type": "code",
   "execution_count": 3,
   "metadata": {},
   "outputs": [],
   "source": [
    "import networkx\n",
    "import torch\n",
    "import scipy.sparse as sp\n",
    "import numpy as np\n",
    "import os\n",
    "import random\n",
    "from munkres import Munkres\n",
    "from sklearn import metrics\n",
    "from sklearn.metrics import adjusted_rand_score as ari_score\n",
    "from sklearn.metrics.cluster import normalized_mutual_info_score as nmi_score\n",
    "from sklearn.decomposition import PCA\n",
    "from torch.utils.data import Dataset\n",
    "import argparse\n",
    "import yaml\n",
    "from torch_geometric.utils.convert import to_networkx\n",
    "import pynvml\n",
    "\n",
    "def build_args():\n",
    "    \n",
    "    parser = argparse.ArgumentParser(formatter_class=argparse.ArgumentDefaultsHelpFormatter)\n",
    "    parser.add_argument('--dataset', type=str, default=\"acm\")\n",
    "    parser.add_argument('--seed', type=int, default=20)\n",
    "    parser.add_argument('--cuda', type=bool, default=True)\n",
    "    parser.add_argument('--n_input', type=int, default=None)\n",
    "    parser.add_argument('--n_z', type=int, default=None)\n",
    "    parser.add_argument('--freedom_degree', type=float, default=1.0)\n",
    "    parser.add_argument('--epoch', type=int, default=None)\n",
    "    parser.add_argument('--shuffle', type=bool, default=True)\n",
    "    parser.add_argument('--sigma', type=float, default=None)\n",
    "    parser.add_argument('--loss_n', type=float, default=None)\n",
    "    parser.add_argument('--loss_w', type=float, default=None)\n",
    "    parser.add_argument('--loss_s', type=float, default=None)\n",
    "    parser.add_argument('--loss_a', type=float, default=None)\n",
    "    parser.add_argument('--lr', type=float, default=1e-4)\n",
    "    parser.add_argument('--acc', type=float, default=-1)\n",
    "    parser.add_argument('--f1', type=float, default=-1)\n",
    "    args = parser.parse_args([])\n",
    "    return args"
   ]
  },
  {
   "cell_type": "code",
   "execution_count": 4,
   "metadata": {},
   "outputs": [],
   "source": [
    "def pca(adata, use_reps=None, n_comps=10):\n",
    "    \n",
    "    \"\"\"Dimension reduction with PCA algorithm\"\"\"\n",
    "    \n",
    "    from sklearn.decomposition import PCA\n",
    "    from scipy.sparse.csc import csc_matrix\n",
    "    from scipy.sparse.csr import csr_matrix\n",
    "    pca = PCA(n_components=n_comps)\n",
    "    if use_reps is not None:\n",
    "       feat_pca = pca.fit_transform(adata.obsm[use_reps])\n",
    "    else: \n",
    "       if isinstance(adata.X, csc_matrix) or isinstance(adata.X, csr_matrix):\n",
    "          feat_pca = pca.fit_transform(adata.X.toarray()) \n",
    "       else:   \n",
    "          feat_pca = pca.fit_transform(adata.X)\n",
    "    \n",
    "    return feat_pca\n",
    "\n",
    "def clr_normalize_each_cell(adata, inplace=True):\n",
    "    \n",
    "    \"\"\"Normalize count vector for each cell, i.e. for each row of .X\"\"\"\n",
    "\n",
    "    import numpy as np\n",
    "    import scipy\n",
    "\n",
    "    def seurat_clr(x):\n",
    "        # TODO: support sparseness\n",
    "        s = np.sum(np.log1p(x[x > 0]))\n",
    "        exp = np.exp(s / len(x))\n",
    "        return np.log1p(x / exp)\n",
    "\n",
    "    if not inplace:\n",
    "        adata = adata.copy()\n",
    "    \n",
    "    # apply to dense or sparse matrix, along axis. returns dense matrix\n",
    "    adata.X = np.apply_along_axis(\n",
    "        seurat_clr, 1, (adata.X.A if scipy.sparse.issparse(adata.X) else np.array(adata.X))\n",
    "    )\n",
    "    return adata     "
   ]
  },
  {
   "cell_type": "code",
   "execution_count": 5,
   "metadata": {},
   "outputs": [
    {
     "name": "stdout",
     "output_type": "stream",
     "text": [
      "load configs\n"
     ]
    }
   ],
   "source": [
    "args = build_args()\n",
    "args = load_configs(args, \"config/configs.yml\")\n",
    "# set_random_seed(2024)\n",
    "device = torch.device(\"cuda\" if torch.cuda.is_available() else \"cpu\")"
   ]
  },
  {
   "cell_type": "code",
   "execution_count": 6,
   "metadata": {},
   "outputs": [],
   "source": [
    "# 淋巴结\n",
    "import scanpy as sc\n",
    "adata_omics1 = sc.read_h5ad( '/home/hfzhang/data/空间转录组/Human_lymph_node/slice3/s3_adata_rna.h5ad')\n",
    "adata_omics2 = sc.read_h5ad('/home/hfzhang/data/空间转录组/Human_lymph_node/slice3/s3_adata_adt.h5ad')\n",
    "\n",
    "adata_omics1.var_names_make_unique()\n",
    "adata_omics2.var_names_make_unique()\n",
    "adata_omics1 = adata_omics1[adata_omics1.obs['final_annot'].notna()]  \n",
    "adata_omics2 = adata_omics2[adata_omics2.obs['final_annot'].notna()] "
   ]
  },
  {
   "cell_type": "code",
   "execution_count": 7,
   "metadata": {},
   "outputs": [
    {
     "name": "stderr",
     "output_type": "stream",
     "text": [
      "/home/hfzhang/software/anaconda3/envs/GraphST/lib/python3.8/site-packages/scanpy/preprocessing/_simple.py:250: ImplicitModificationWarning: Trying to modify attribute `.var` of view, initializing view as actual.\n",
      "  adata.var['n_cells'] = number\n",
      "/tmp/ipykernel_28264/529664883.py:6: DeprecationWarning: Please use `csc_matrix` from the `scipy.sparse` namespace, the `scipy.sparse.csc` namespace is deprecated.\n",
      "  from scipy.sparse.csc import csc_matrix\n",
      "/tmp/ipykernel_28264/529664883.py:7: DeprecationWarning: Please use `csr_matrix` from the `scipy.sparse` namespace, the `scipy.sparse.csr` namespace is deprecated.\n",
      "  from scipy.sparse.csr import csr_matrix\n",
      "/home/hfzhang/software/anaconda3/envs/GraphST/lib/python3.8/site-packages/scanpy/preprocessing/_simple.py:843: UserWarning: Received a view of an AnnData. Making a copy.\n",
      "  view_to_actual(adata)\n",
      "/tmp/ipykernel_28264/529664883.py:6: DeprecationWarning: Please use `csc_matrix` from the `scipy.sparse` namespace, the `scipy.sparse.csc` namespace is deprecated.\n",
      "  from scipy.sparse.csc import csc_matrix\n",
      "/tmp/ipykernel_28264/529664883.py:7: DeprecationWarning: Please use `csr_matrix` from the `scipy.sparse` namespace, the `scipy.sparse.csr` namespace is deprecated.\n",
      "  from scipy.sparse.csr import csr_matrix\n"
     ]
    }
   ],
   "source": [
    "\n",
    "# RNA\n",
    "sc.pp.filter_genes(adata_omics1, min_cells=10)\n",
    "sc.pp.highly_variable_genes(adata_omics1, flavor=\"seurat_v3\", n_top_genes=3000)\n",
    "sc.pp.normalize_total(adata_omics1, target_sum=1e4)\n",
    "sc.pp.log1p(adata_omics1)\n",
    "sc.pp.scale(adata_omics1)\n",
    "\n",
    "adata_omics1 =  adata_omics1[:, adata_omics1.var['highly_variable']]\n",
    "adata_omics1.obsm['feat'] = pca(adata_omics1, n_comps=adata_omics2.n_vars-1)\n",
    "# Protein\n",
    "adata_omics2 = clr_normalize_each_cell(adata_omics2)\n",
    "sc.pp.scale(adata_omics2)\n",
    "adata_omics2.obsm['feat'] = pca(adata_omics2, n_comps=adata_omics2.n_vars-1)"
   ]
  },
  {
   "cell_type": "code",
   "execution_count": 8,
   "metadata": {},
   "outputs": [],
   "source": [
    "def create_adj(adata):\n",
    "    cell_position_omics1 = adata.obsm['spatial']\n",
    "    adj_omics1 = construct_graph_by_coordinate(cell_position_omics1, n_neighbors=3)\n",
    "    adata.uns['adj_spatial'] = adj_omics1\n",
    "    adj_spatial_omics1 = adata.uns['adj_spatial']\n",
    "    adj_spatial_omics1 = transform_adjacent_matrix(adj_spatial_omics1)\n",
    "    adj_spatial_omics1 = adj_spatial_omics1.toarray()\n",
    "    adj_spatial_omics1 = adj_spatial_omics1 + adj_spatial_omics1.T\n",
    "    adj_spatial_omics1 = np.where(adj_spatial_omics1>1, 1, adj_spatial_omics1)\n",
    "    adj = preprocess_graph(adj_spatial_omics1)\n",
    "    return adj"
   ]
  },
  {
   "cell_type": "code",
   "execution_count": 9,
   "metadata": {},
   "outputs": [],
   "source": [
    "label=adata_omics2.obs['final_annot'].values\n",
    "classes, label = np.unique(label, return_inverse=True)\n",
    "classes = classes.tolist()"
   ]
  },
  {
   "cell_type": "code",
   "execution_count": 10,
   "metadata": {},
   "outputs": [],
   "source": [
    "args.n_input=adata_omics2.n_vars-1\n",
    "args.n_input1=adata_omics2.n_vars-1\n",
    "args.n_clusters=len(classes)\n",
    "device='cuda:1'\n",
    "args.n_clusters\n",
    "random_seek=2020\n",
    "args.Type='10x'\n",
    "args.loss_n=0.001\n",
    "args.epoch=450\n",
    "args.n_clusters=len(classes)"
   ]
  },
  {
   "cell_type": "code",
   "execution_count": 15,
   "metadata": {},
   "outputs": [],
   "source": [
    "random_seek=2020\n",
    "args.random_seed=random_seek\n",
    "fix_seed(random_seek)"
   ]
  },
  {
   "cell_type": "code",
   "execution_count": 12,
   "metadata": {},
   "outputs": [
    {
     "data": {
      "text/plain": [
       "0.001"
      ]
     },
     "execution_count": 12,
     "metadata": {},
     "output_type": "execute_result"
    }
   ],
   "source": [
    "args.loss_n"
   ]
  },
  {
   "cell_type": "code",
   "execution_count": 17,
   "metadata": {},
   "outputs": [
    {
     "name": "stdout",
     "output_type": "stream",
     "text": [
      "  9 loss: 7.811975955963135\n",
      "Epoch_  9 , nmi 0.3602 , ari 0.2289 , ami 0.3559 , homogeneity 0.3812 , completeness 0.3413 , v_measure 0.3602\n",
      " 19 loss: 7.785085678100586\n",
      "Epoch_ 19 , nmi 0.3675 , ari 0.2372 , ami 0.3633 , homogeneity 0.3863 , completeness 0.3504 , v_measure 0.3675\n",
      " 29 loss: 7.754378795623779\n",
      "Epoch_ 29 , nmi 0.3805 , ari 0.2485 , ami 0.3763 , homogeneity 0.4003 , completeness 0.3625 , v_measure 0.3805\n",
      " 39 loss: 7.71554708480835\n",
      "Epoch_ 39 , nmi 0.3889 , ari 0.2541 , ami 0.3848 , homogeneity 0.4111 , completeness 0.3690 , v_measure 0.3889\n",
      " 49 loss: 7.6726579666137695\n",
      "Epoch_ 49 , nmi 0.3910 , ari 0.2574 , ami 0.3869 , homogeneity 0.4119 , completeness 0.3722 , v_measure 0.3910\n",
      " 59 loss: 7.607205867767334\n",
      "Epoch_ 59 , nmi 0.3961 , ari 0.2608 , ami 0.3921 , homogeneity 0.4195 , completeness 0.3752 , v_measure 0.3961\n",
      " 69 loss: 7.522639751434326\n",
      "Epoch_ 69 , nmi 0.3964 , ari 0.2590 , ami 0.3924 , homogeneity 0.4178 , completeness 0.3771 , v_measure 0.3964\n",
      " 79 loss: 7.4151105880737305\n",
      "Epoch_ 79 , nmi 0.3959 , ari 0.2604 , ami 0.3919 , homogeneity 0.4162 , completeness 0.3775 , v_measure 0.3959\n",
      " 89 loss: 7.282242298126221\n",
      "Epoch_ 89 , nmi 0.3947 , ari 0.2569 , ami 0.3907 , homogeneity 0.4155 , completeness 0.3759 , v_measure 0.3947\n",
      " 99 loss: 7.122368812561035\n",
      "Epoch_ 99 , nmi 0.3963 , ari 0.2567 , ami 0.3923 , homogeneity 0.4172 , completeness 0.3774 , v_measure 0.3963\n",
      "109 loss: 6.935677528381348\n",
      "Epoch_109 , nmi 0.3961 , ari 0.2588 , ami 0.3921 , homogeneity 0.4179 , completeness 0.3765 , v_measure 0.3961\n",
      "119 loss: 6.725434303283691\n",
      "Epoch_119 , nmi 0.3977 , ari 0.2616 , ami 0.3937 , homogeneity 0.4193 , completeness 0.3782 , v_measure 0.3977\n",
      "129 loss: 6.500059127807617\n",
      "Epoch_129 , nmi 0.4044 , ari 0.2715 , ami 0.4004 , homogeneity 0.4258 , completeness 0.3849 , v_measure 0.4044\n",
      "139 loss: 6.27347993850708\n",
      "Epoch_139 , nmi 0.4051 , ari 0.2701 , ami 0.4012 , homogeneity 0.4281 , completeness 0.3846 , v_measure 0.4051\n",
      "149 loss: 6.061305522918701\n",
      "Epoch_149 , nmi 0.4021 , ari 0.2682 , ami 0.3981 , homogeneity 0.4243 , completeness 0.3821 , v_measure 0.4021\n",
      "159 loss: 5.874364376068115\n",
      "Epoch_159 , nmi 0.4037 , ari 0.2710 , ami 0.3998 , homogeneity 0.4255 , completeness 0.3841 , v_measure 0.4037\n",
      "169 loss: 5.714236259460449\n",
      "Epoch_169 , nmi 0.4069 , ari 0.2764 , ami 0.4030 , homogeneity 0.4273 , completeness 0.3884 , v_measure 0.4069\n",
      "179 loss: 5.575209617614746\n",
      "Epoch_179 , nmi 0.4134 , ari 0.2824 , ami 0.4095 , homogeneity 0.4363 , completeness 0.3928 , v_measure 0.4134\n",
      "189 loss: 5.450114727020264\n",
      "Epoch_189 , nmi 0.4133 , ari 0.2825 , ami 0.4094 , homogeneity 0.4359 , completeness 0.3929 , v_measure 0.4133\n",
      "199 loss: 5.334238529205322\n",
      "Epoch_199 , nmi 0.4137 , ari 0.2814 , ami 0.4098 , homogeneity 0.4360 , completeness 0.3936 , v_measure 0.4137\n",
      "209 loss: 5.22547721862793\n",
      "Epoch_209 , nmi 0.4108 , ari 0.2793 , ami 0.4069 , homogeneity 0.4337 , completeness 0.3903 , v_measure 0.4108\n",
      "219 loss: 5.123220443725586\n",
      "Epoch_219 , nmi 0.4170 , ari 0.2848 , ami 0.4131 , homogeneity 0.4407 , completeness 0.3957 , v_measure 0.4170\n",
      "229 loss: 5.0273542404174805\n",
      "Epoch_229 , nmi 0.4322 , ari 0.3125 , ami 0.4282 , homogeneity 0.4345 , completeness 0.4300 , v_measure 0.4322\n",
      "239 loss: 4.937675952911377\n",
      "Epoch_239 , nmi 0.4296 , ari 0.3133 , ami 0.4256 , homogeneity 0.4317 , completeness 0.4275 , v_measure 0.4296\n",
      "249 loss: 4.853951930999756\n",
      "Epoch_249 , nmi 0.4246 , ari 0.3093 , ami 0.4205 , homogeneity 0.4251 , completeness 0.4241 , v_measure 0.4246\n",
      "259 loss: 4.776112079620361\n",
      "Epoch_259 , nmi 0.4217 , ari 0.3084 , ami 0.4176 , homogeneity 0.4206 , completeness 0.4228 , v_measure 0.4217\n",
      "269 loss: 4.7038254737854\n",
      "Epoch_269 , nmi 0.4231 , ari 0.3088 , ami 0.4190 , homogeneity 0.4224 , completeness 0.4238 , v_measure 0.4231\n",
      "279 loss: 4.636770248413086\n",
      "Epoch_279 , nmi 0.4143 , ari 0.3042 , ami 0.4103 , homogeneity 0.4085 , completeness 0.4204 , v_measure 0.4143\n",
      "289 loss: 4.574344635009766\n",
      "Epoch_289 , nmi 0.4144 , ari 0.3066 , ami 0.4103 , homogeneity 0.4109 , completeness 0.4180 , v_measure 0.4144\n",
      "299 loss: 4.515832901000977\n",
      "Epoch_299 , nmi 0.4156 , ari 0.3073 , ami 0.4116 , homogeneity 0.4103 , completeness 0.4210 , v_measure 0.4156\n",
      "309 loss: 4.460477352142334\n",
      "Epoch_309 , nmi 0.4182 , ari 0.3117 , ami 0.4142 , homogeneity 0.4140 , completeness 0.4225 , v_measure 0.4182\n",
      "319 loss: 4.4077229499816895\n",
      "Epoch_319 , nmi 0.4323 , ari 0.3176 , ami 0.4284 , homogeneity 0.4340 , completeness 0.4307 , v_measure 0.4323\n",
      "329 loss: 4.357411861419678\n",
      "Epoch_329 , nmi 0.4250 , ari 0.3146 , ami 0.4210 , homogeneity 0.4211 , completeness 0.4291 , v_measure 0.4250\n",
      "339 loss: 4.309266567230225\n",
      "Epoch_339 , nmi 0.4230 , ari 0.3137 , ami 0.4190 , homogeneity 0.4193 , completeness 0.4268 , v_measure 0.4230\n",
      "349 loss: 4.263028144836426\n",
      "Epoch_349 , nmi 0.4190 , ari 0.3098 , ami 0.4150 , homogeneity 0.4147 , completeness 0.4234 , v_measure 0.4190\n",
      "359 loss: 4.218368053436279\n",
      "Epoch_359 , nmi 0.4209 , ari 0.3138 , ami 0.4168 , homogeneity 0.4153 , completeness 0.4266 , v_measure 0.4209\n",
      "369 loss: 4.174963474273682\n",
      "Epoch_369 , nmi 0.4317 , ari 0.3167 , ami 0.4277 , homogeneity 0.4303 , completeness 0.4330 , v_measure 0.4317\n",
      "379 loss: 4.132519721984863\n",
      "Epoch_379 , nmi 0.4200 , ari 0.3102 , ami 0.4160 , homogeneity 0.4133 , completeness 0.4270 , v_measure 0.4200\n",
      "389 loss: 4.0907883644104\n",
      "Epoch_389 , nmi 0.4174 , ari 0.3106 , ami 0.4134 , homogeneity 0.4125 , completeness 0.4225 , v_measure 0.4174\n",
      "399 loss: 4.049552917480469\n",
      "Epoch_399 , nmi 0.4154 , ari 0.3083 , ami 0.4113 , homogeneity 0.4105 , completeness 0.4205 , v_measure 0.4154\n",
      "409 loss: 4.008609771728516\n",
      "Epoch_409 , nmi 0.4148 , ari 0.3066 , ami 0.4107 , homogeneity 0.4095 , completeness 0.4202 , v_measure 0.4148\n",
      "419 loss: 3.9678804874420166\n",
      "Epoch_419 , nmi 0.4155 , ari 0.3070 , ami 0.4115 , homogeneity 0.4102 , completeness 0.4211 , v_measure 0.4155\n",
      "429 loss: 3.927288293838501\n",
      "Epoch_429 , nmi 0.4128 , ari 0.2968 , ami 0.4087 , homogeneity 0.4014 , completeness 0.4249 , v_measure 0.4128\n",
      "439 loss: 3.8868703842163086\n",
      "Epoch_439 , nmi 0.4202 , ari 0.3110 , ami 0.4162 , homogeneity 0.4144 , completeness 0.4262 , v_measure 0.4202\n",
      "449 loss: 3.846632719039917\n",
      "Epoch_449 , nmi 0.4201 , ari 0.3132 , ami 0.4161 , homogeneity 0.4147 , completeness 0.4256 , v_measure 0.4201\n",
      "xunlian\n",
      "name: acm\n",
      "NMI : 0.4323\n",
      "ARI : 0.3176\n",
      "AMI  : 0.4284\n",
      "Epoch_  0 , nmi 0.4203 , ari 0.3121 , ami 0.4163 , homogeneity 0.4146 , completeness 0.4262 , v_measure 0.4203\n",
      "聚类方法为kmeans\n",
      "test\n",
      "name: acm\n",
      "NMI : 0.4203\n",
      "ARI : 0.3121\n",
      "AMI  : 0.4163\n"
     ]
    }
   ],
   "source": [
    "args.n_clusters1=len(set(label))\n",
    "args.n_clusters2=len(set(label))\n",
    "adj_train=create_adj(adata_omics1)\n",
    "adj_train = adj_train.to(device)\n",
    "features_omics1 = torch.FloatTensor(adata_omics1.obsm['feat'].copy()).to(device)\n",
    "features_omics2 = torch.FloatTensor(adata_omics2.obsm['feat'].copy()).to(device)\n",
    "\n",
    "model = creat_model('spamgcn', args).to(device)\n",
    "model=Train(args.epoch, model, features_omics1,features_omics2, adj_train, label, device, args)\n",
    "nmi, ari, ami, homogeneity, completeness, v_measure=Test(model,adata_omics1,features_omics1,features_omics2,adj_train,label,device,args,'kmeans')\n"
   ]
  }
 ],
 "metadata": {
  "kernelspec": {
   "display_name": "GraphST",
   "language": "python",
   "name": "python3"
  },
  "language_info": {
   "codemirror_mode": {
    "name": "ipython",
    "version": 3
   },
   "file_extension": ".py",
   "mimetype": "text/x-python",
   "name": "python",
   "nbconvert_exporter": "python",
   "pygments_lexer": "ipython3",
   "version": "3.8.15"
  }
 },
 "nbformat": 4,
 "nbformat_minor": 2
}
