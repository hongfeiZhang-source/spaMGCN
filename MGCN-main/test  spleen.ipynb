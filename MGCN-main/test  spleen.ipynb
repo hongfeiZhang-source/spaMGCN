{
 "cells": [
  {
   "cell_type": "code",
   "execution_count": 1,
   "metadata": {},
   "outputs": [
    {
     "name": "stderr",
     "output_type": "stream",
     "text": [
      "2025-03-31 17:41:31.769024: I tensorflow/core/platform/cpu_feature_guard.cc:193] This TensorFlow binary is optimized with oneAPI Deep Neural Network Library (oneDNN) to use the following CPU instructions in performance-critical operations:  AVX2 AVX512F AVX512_VNNI FMA\n",
      "To enable them in other operations, rebuild TensorFlow with the appropriate compiler flags.\n",
      "2025-03-31 17:41:31.936189: I tensorflow/core/util/port.cc:104] oneDNN custom operations are on. You may see slightly different numerical results due to floating-point round-off errors from different computation orders. To turn them off, set the environment variable `TF_ENABLE_ONEDNN_OPTS=0`.\n",
      "2025-03-31 17:41:32.851106: W tensorflow/compiler/xla/stream_executor/platform/default/dso_loader.cc:64] Could not load dynamic library 'libnvinfer.so.7'; dlerror: libnvinfer.so.7: cannot open shared object file: No such file or directory; LD_LIBRARY_PATH: /usr/local/lib:\n",
      "2025-03-31 17:41:32.851189: W tensorflow/compiler/xla/stream_executor/platform/default/dso_loader.cc:64] Could not load dynamic library 'libnvinfer_plugin.so.7'; dlerror: libnvinfer_plugin.so.7: cannot open shared object file: No such file or directory; LD_LIBRARY_PATH: /usr/local/lib:\n",
      "2025-03-31 17:41:32.851197: W tensorflow/compiler/tf2tensorrt/utils/py_utils.cc:38] TF-TRT Warning: Cannot dlopen some TensorRT libraries. If you would like to use Nvidia GPU with TensorRT, please make sure the missing libraries mentioned above are installed properly.\n"
     ]
    }
   ],
   "source": [
    "from utils.misc import *\n",
    "from train.train import Train,Test\n",
    "from datasets.data_utils import load_dataset\n",
    "from model.Creat_model import creat_model\n",
    "from utils.preprocess import *\n",
    "from utils.utils import *"
   ]
  },
  {
   "cell_type": "code",
   "execution_count": 2,
   "metadata": {},
   "outputs": [],
   "source": [
    "from torch.backends import cudnn\n",
    "def fix_seed(seed):\n",
    "    #seed = 2023\n",
    "    os.environ['PYTHONHASHSEED'] = str(seed)\n",
    "    random.seed(seed)\n",
    "    np.random.seed(seed)\n",
    "    torch.manual_seed(seed)\n",
    "    torch.cuda.manual_seed(seed)\n",
    "    torch.cuda.manual_seed_all(seed)\n",
    "    cudnn.deterministic = True\n",
    "    cudnn.benchmark = False\n",
    "    \n",
    "    os.environ['PYTHONHASHSEED'] = str(seed)\n",
    "    os.environ['CUBLAS_WORKSPACE_CONFIG'] = ':4096:8'   "
   ]
  },
  {
   "cell_type": "code",
   "execution_count": 3,
   "metadata": {},
   "outputs": [],
   "source": [
    "import networkx\n",
    "import torch\n",
    "import scipy.sparse as sp\n",
    "import numpy as np\n",
    "import os\n",
    "import random\n",
    "from munkres import Munkres\n",
    "from sklearn import metrics\n",
    "from sklearn.metrics import adjusted_rand_score as ari_score\n",
    "from sklearn.metrics.cluster import normalized_mutual_info_score as nmi_score\n",
    "from sklearn.decomposition import PCA\n",
    "from torch.utils.data import Dataset\n",
    "import argparse\n",
    "import yaml\n",
    "from torch_geometric.utils.convert import to_networkx\n",
    "import pynvml\n",
    "\n",
    "def build_args():\n",
    "    \n",
    "    parser = argparse.ArgumentParser(formatter_class=argparse.ArgumentDefaultsHelpFormatter)\n",
    "    parser.add_argument('--dataset', type=str, default=\"acm\")\n",
    "    parser.add_argument('--seed', type=int, default=20)\n",
    "    parser.add_argument('--cuda', type=bool, default=True)\n",
    "    parser.add_argument('--n_input', type=int, default=None)\n",
    "    parser.add_argument('--n_z', type=int, default=None)\n",
    "    parser.add_argument('--freedom_degree', type=float, default=1.0)\n",
    "    parser.add_argument('--epoch', type=int, default=None)\n",
    "    parser.add_argument('--shuffle', type=bool, default=True)\n",
    "    parser.add_argument('--sigma', type=float, default=None)\n",
    "    parser.add_argument('--loss_n', type=float, default=None)\n",
    "    parser.add_argument('--loss_w', type=float, default=None)\n",
    "    parser.add_argument('--loss_s', type=float, default=None)\n",
    "    parser.add_argument('--loss_a', type=float, default=None)\n",
    "    parser.add_argument('--lr', type=float, default=1e-4)\n",
    "    parser.add_argument('--acc', type=float, default=-1)\n",
    "    parser.add_argument('--f1', type=float, default=-1)\n",
    "    args = parser.parse_args([])\n",
    "    return args"
   ]
  },
  {
   "cell_type": "code",
   "execution_count": 4,
   "metadata": {},
   "outputs": [],
   "source": [
    "def pca(adata, use_reps=None, n_comps=10):\n",
    "    \n",
    "    \"\"\"Dimension reduction with PCA algorithm\"\"\"\n",
    "    \n",
    "    from sklearn.decomposition import PCA\n",
    "    from scipy.sparse.csc import csc_matrix\n",
    "    from scipy.sparse.csr import csr_matrix\n",
    "    pca = PCA(n_components=n_comps)\n",
    "    if use_reps is not None:\n",
    "       feat_pca = pca.fit_transform(adata.obsm[use_reps])\n",
    "    else: \n",
    "       if isinstance(adata.X, csc_matrix) or isinstance(adata.X, csr_matrix):\n",
    "          feat_pca = pca.fit_transform(adata.X.toarray()) \n",
    "       else:   \n",
    "          feat_pca = pca.fit_transform(adata.X)\n",
    "    \n",
    "    return feat_pca\n",
    "\n",
    "def clr_normalize_each_cell(adata, inplace=True):\n",
    "    \n",
    "    \"\"\"Normalize count vector for each cell, i.e. for each row of .X\"\"\"\n",
    "\n",
    "    import numpy as np\n",
    "    import scipy\n",
    "\n",
    "    def seurat_clr(x):\n",
    "        # TODO: support sparseness\n",
    "        s = np.sum(np.log1p(x[x > 0]))\n",
    "        exp = np.exp(s / len(x))\n",
    "        return np.log1p(x / exp)\n",
    "\n",
    "    if not inplace:\n",
    "        adata = adata.copy()\n",
    "    \n",
    "    # apply to dense or sparse matrix, along axis. returns dense matrix\n",
    "    adata.X = np.apply_along_axis(\n",
    "        seurat_clr, 1, (adata.X.A if scipy.sparse.issparse(adata.X) else np.array(adata.X))\n",
    "    )\n",
    "    return adata     "
   ]
  },
  {
   "cell_type": "code",
   "execution_count": 5,
   "metadata": {},
   "outputs": [
    {
     "name": "stdout",
     "output_type": "stream",
     "text": [
      "load configs\n"
     ]
    }
   ],
   "source": [
    "args = build_args()\n",
    "args = load_configs(args, \"config/configs.yml\")\n",
    "# set_random_seed(2024)\n",
    "device = torch.device(\"cuda\" if torch.cuda.is_available() else \"cpu\")"
   ]
  },
  {
   "cell_type": "code",
   "execution_count": 6,
   "metadata": {},
   "outputs": [
    {
     "name": "stderr",
     "output_type": "stream",
     "text": [
      "/home/hfzhang/software/anaconda3/envs/GraphST/lib/python3.8/site-packages/anndata/_core/anndata.py:1840: UserWarning: Variable names are not unique. To make them unique, call `.var_names_make_unique`.\n",
      "  utils.warn_names_duplicates(\"var\")\n"
     ]
    }
   ],
   "source": [
    "import scanpy as sc\n",
    "import pandas as pd\n",
    "# read data\n",
    "file_fold = '/home/hfzhang/data/空间转录组/Mouse_Spleen/' #please replace 'file_fold' with the download path\n",
    "\n",
    "adata_omics1 = sc.read_h5ad(file_fold + 'adata_RNA.h5ad')\n",
    "adata_omics2 = sc.read_h5ad(file_fold + 'adata_Pro.h5ad')\n",
    "\n",
    "adata_omics1.var_names_make_unique()\n",
    "adata_omics2.var_names_make_unique()\n",
    "labels=pd.read_csv('/home/hfzhang/data/空间转录组/Mouse_Spleen/annotation_spleen1.csv',header=0,index_col=0)\n",
    "adata_omics1.obs['final_annot'] = labels.reindex(adata_omics1.obs.index)  \n",
    "adata_omics2.obs['final_annot'] = labels.reindex(adata_omics2.obs.index) \n",
    "adata_omics1 = adata_omics1[adata_omics1.obs['final_annot'].notna()]  \n",
    "adata_omics2 = adata_omics2[adata_omics2.obs['final_annot'].notna()] "
   ]
  },
  {
   "cell_type": "code",
   "execution_count": 7,
   "metadata": {},
   "outputs": [
    {
     "name": "stderr",
     "output_type": "stream",
     "text": [
      "/home/hfzhang/software/anaconda3/envs/GraphST/lib/python3.8/site-packages/scanpy/preprocessing/_simple.py:250: ImplicitModificationWarning: Trying to modify attribute `.var` of view, initializing view as actual.\n",
      "  adata.var['n_cells'] = number\n",
      "/tmp/ipykernel_54772/529664883.py:6: DeprecationWarning: Please use `csc_matrix` from the `scipy.sparse` namespace, the `scipy.sparse.csc` namespace is deprecated.\n",
      "  from scipy.sparse.csc import csc_matrix\n",
      "/tmp/ipykernel_54772/529664883.py:7: DeprecationWarning: Please use `csr_matrix` from the `scipy.sparse` namespace, the `scipy.sparse.csr` namespace is deprecated.\n",
      "  from scipy.sparse.csr import csr_matrix\n",
      "/home/hfzhang/software/anaconda3/envs/GraphST/lib/python3.8/site-packages/scanpy/preprocessing/_simple.py:843: UserWarning: Received a view of an AnnData. Making a copy.\n",
      "  view_to_actual(adata)\n",
      "/tmp/ipykernel_54772/529664883.py:6: DeprecationWarning: Please use `csc_matrix` from the `scipy.sparse` namespace, the `scipy.sparse.csc` namespace is deprecated.\n",
      "  from scipy.sparse.csc import csc_matrix\n",
      "/tmp/ipykernel_54772/529664883.py:7: DeprecationWarning: Please use `csr_matrix` from the `scipy.sparse` namespace, the `scipy.sparse.csr` namespace is deprecated.\n",
      "  from scipy.sparse.csr import csr_matrix\n"
     ]
    }
   ],
   "source": [
    "\n",
    "# RNA\n",
    "sc.pp.filter_genes(adata_omics1, min_cells=10)\n",
    "sc.pp.highly_variable_genes(adata_omics1, flavor=\"seurat_v3\", n_top_genes=3000)\n",
    "sc.pp.normalize_total(adata_omics1, target_sum=1e4)\n",
    "sc.pp.log1p(adata_omics1)\n",
    "sc.pp.scale(adata_omics1)\n",
    "\n",
    "adata_omics1 =  adata_omics1[:, adata_omics1.var['highly_variable']]\n",
    "adata_omics1.obsm['feat'] = pca(adata_omics1, n_comps=1000)\n",
    "# Protein\n",
    "adata_omics2 = clr_normalize_each_cell(adata_omics2)\n",
    "sc.pp.scale(adata_omics2)\n",
    "adata_omics2.obsm['feat'] = pca(adata_omics2, n_comps=adata_omics2.n_vars-1)"
   ]
  },
  {
   "cell_type": "code",
   "execution_count": 8,
   "metadata": {},
   "outputs": [],
   "source": [
    "def create_adj(adata):\n",
    "    cell_position_omics1 = adata.obsm['spatial']\n",
    "    adj_omics1 = construct_graph_by_coordinate(cell_position_omics1, n_neighbors=3)\n",
    "    adata.uns['adj_spatial'] = adj_omics1\n",
    "    adj_spatial_omics1 = adata.uns['adj_spatial']\n",
    "    adj_spatial_omics1 = transform_adjacent_matrix(adj_spatial_omics1)\n",
    "    adj_spatial_omics1 = adj_spatial_omics1.toarray()\n",
    "    adj_spatial_omics1 = adj_spatial_omics1 + adj_spatial_omics1.T\n",
    "    adj_spatial_omics1 = np.where(adj_spatial_omics1>1, 1, adj_spatial_omics1)\n",
    "    adj = preprocess_graph(adj_spatial_omics1)\n",
    "    return adj"
   ]
  },
  {
   "cell_type": "code",
   "execution_count": 9,
   "metadata": {},
   "outputs": [],
   "source": [
    "label=adata_omics2.obs['final_annot'].values\n",
    "classes, label = np.unique(label, return_inverse=True)\n",
    "classes = classes.tolist()"
   ]
  },
  {
   "cell_type": "code",
   "execution_count": 10,
   "metadata": {},
   "outputs": [],
   "source": [
    "args.n_input=adata_omics2.n_vars-1\n",
    "args.n_input1=adata_omics2.n_vars-1\n",
    "args.n_clusters=len(classes)\n",
    "device='cuda:1'\n",
    "args.n_clusters\n",
    "random_seek=2020\n",
    "args.Type='Spots'\n",
    "args.n_clusters=len(classes)"
   ]
  },
  {
   "cell_type": "code",
   "execution_count": 11,
   "metadata": {},
   "outputs": [],
   "source": [
    "args.random_seed=random_seek\n",
    "fix_seed(random_seek)"
   ]
  },
  {
   "cell_type": "code",
   "execution_count": 12,
   "metadata": {},
   "outputs": [
    {
     "data": {
      "text/plain": [
       "0.01"
      ]
     },
     "execution_count": 12,
     "metadata": {},
     "output_type": "execute_result"
    }
   ],
   "source": [
    "args.loss_a=0.1\n",
    "args.loss_n=0.01"
   ]
  },
  {
   "cell_type": "code",
   "execution_count": 20,
   "metadata": {},
   "outputs": [
    {
     "name": "stdout",
     "output_type": "stream",
     "text": [
      "  9 loss: 3.5251760482788086\n",
      "Epoch_  9 , nmi 0.2054 , ari 0.1016 , ami 0.2036 , homogeneity 0.2483 , completeness 0.1751 , v_measure 0.2054\n",
      " 19 loss: 3.516737699508667\n",
      "Epoch_ 19 , nmi 0.2220 , ari 0.1228 , ami 0.2202 , homogeneity 0.2668 , completeness 0.1901 , v_measure 0.2220\n",
      " 29 loss: 3.5814974308013916\n",
      "Epoch_ 29 , nmi 0.2202 , ari 0.1190 , ami 0.2184 , homogeneity 0.2654 , completeness 0.1882 , v_measure 0.2202\n",
      " 39 loss: 3.569789409637451\n",
      "Epoch_ 39 , nmi 0.2175 , ari 0.1180 , ami 0.2157 , homogeneity 0.2628 , completeness 0.1855 , v_measure 0.2175\n",
      " 49 loss: 3.5557568073272705\n",
      "Epoch_ 49 , nmi 0.2205 , ari 0.1100 , ami 0.2187 , homogeneity 0.2653 , completeness 0.1887 , v_measure 0.2205\n",
      " 59 loss: 3.5387115478515625\n",
      "Epoch_ 59 , nmi 0.2196 , ari 0.1125 , ami 0.2178 , homogeneity 0.2649 , completeness 0.1875 , v_measure 0.2196\n",
      " 69 loss: 3.5179829597473145\n",
      "Epoch_ 69 , nmi 0.2189 , ari 0.1127 , ami 0.2171 , homogeneity 0.2638 , completeness 0.1871 , v_measure 0.2189\n",
      " 79 loss: 3.4927706718444824\n",
      "Epoch_ 79 , nmi 0.2184 , ari 0.1117 , ami 0.2166 , homogeneity 0.2632 , completeness 0.1866 , v_measure 0.2184\n",
      " 89 loss: 3.4623022079467773\n",
      "Epoch_ 89 , nmi 0.2210 , ari 0.1139 , ami 0.2192 , homogeneity 0.2657 , completeness 0.1892 , v_measure 0.2210\n",
      " 99 loss: 3.426236629486084\n",
      "Epoch_ 99 , nmi 0.2221 , ari 0.1157 , ami 0.2203 , homogeneity 0.2668 , completeness 0.1902 , v_measure 0.2221\n",
      "109 loss: 3.3853089809417725\n",
      "Epoch_109 , nmi 0.2221 , ari 0.1159 , ami 0.2203 , homogeneity 0.2670 , completeness 0.1901 , v_measure 0.2221\n",
      "119 loss: 3.3411834239959717\n",
      "Epoch_119 , nmi 0.2223 , ari 0.1163 , ami 0.2205 , homogeneity 0.2673 , completeness 0.1903 , v_measure 0.2223\n",
      "129 loss: 3.2963974475860596\n",
      "Epoch_129 , nmi 0.2234 , ari 0.1191 , ami 0.2216 , homogeneity 0.2688 , completeness 0.1911 , v_measure 0.2234\n",
      "139 loss: 3.2539525032043457\n",
      "Epoch_139 , nmi 0.2240 , ari 0.1204 , ami 0.2222 , homogeneity 0.2700 , completeness 0.1914 , v_measure 0.2240\n",
      "149 loss: 3.216461420059204\n",
      "Epoch_149 , nmi 0.2225 , ari 0.1195 , ami 0.2207 , homogeneity 0.2690 , completeness 0.1897 , v_measure 0.2225\n",
      "159 loss: 3.1850781440734863\n",
      "Epoch_159 , nmi 0.2200 , ari 0.1185 , ami 0.2182 , homogeneity 0.2668 , completeness 0.1871 , v_measure 0.2200\n",
      "169 loss: 3.1591527462005615\n",
      "Epoch_169 , nmi 0.2275 , ari 0.1274 , ami 0.2257 , homogeneity 0.2764 , completeness 0.1933 , v_measure 0.2275\n",
      "179 loss: 3.137453079223633\n",
      "Epoch_179 , nmi 0.2267 , ari 0.1262 , ami 0.2249 , homogeneity 0.2753 , completeness 0.1927 , v_measure 0.2267\n",
      "189 loss: 3.1192657947540283\n",
      "Epoch_189 , nmi 0.2275 , ari 0.1276 , ami 0.2257 , homogeneity 0.2766 , completeness 0.1931 , v_measure 0.2275\n",
      "199 loss: 3.1041409969329834\n",
      "Epoch_199 , nmi 0.2349 , ari 0.1567 , ami 0.2331 , homogeneity 0.2789 , completeness 0.2029 , v_measure 0.2349\n",
      "209 loss: 3.0912675857543945\n",
      "Epoch_209 , nmi 0.2354 , ari 0.1562 , ami 0.2336 , homogeneity 0.2791 , completeness 0.2035 , v_measure 0.2354\n",
      "219 loss: 3.0796542167663574\n",
      "Epoch_219 , nmi 0.2333 , ari 0.1550 , ami 0.2315 , homogeneity 0.2773 , completeness 0.2014 , v_measure 0.2333\n",
      "229 loss: 3.0684847831726074\n",
      "Epoch_229 , nmi 0.2362 , ari 0.1569 , ami 0.2344 , homogeneity 0.2791 , completeness 0.2047 , v_measure 0.2362\n",
      "239 loss: 3.057307481765747\n",
      "Epoch_239 , nmi 0.2397 , ari 0.1570 , ami 0.2379 , homogeneity 0.2829 , completeness 0.2080 , v_measure 0.2397\n",
      "249 loss: 3.045933485031128\n",
      "Epoch_249 , nmi 0.2394 , ari 0.1624 , ami 0.2376 , homogeneity 0.2826 , completeness 0.2076 , v_measure 0.2394\n",
      "xunlian\n",
      "name: acm\n",
      "NMI : 0.2397\n",
      "ARI : 0.1570\n",
      "AMI  : 0.2379\n",
      "Epoch_  0 , nmi 0.2394 , ari 0.1624 , ami 0.2376 , homogeneity 0.2826 , completeness 0.2076 , v_measure 0.2394\n",
      "聚类方法为kmeans\n",
      "test\n",
      "name: acm\n",
      "NMI : 0.2394\n",
      "ARI : 0.1624\n",
      "AMI  : 0.2376\n"
     ]
    }
   ],
   "source": [
    "args.n_clusters1=len(set(label))\n",
    "args.n_clusters2=len(set(label))\n",
    "adj_train=create_adj(adata_omics1)\n",
    "# adj_test=create_adj(adata_omics1_test)\n",
    "adj_train = adj_train.to(device)\n",
    "# adj_test = adj_test.to(device)\n",
    "features_omics1 = torch.FloatTensor(adata_omics1.obsm['feat'].copy()).to(device)\n",
    "features_omics2 = torch.FloatTensor(adata_omics2.obsm['feat'].copy()).to(device)\n",
    "\n",
    "model = creat_model('spamgcn', args).to(device)\n",
    "model=Train(250, model, features_omics1,features_omics2, adj_train, label, device, args)\n",
    "nmi, ari, ami, homogeneity, completeness, v_measure=Test(model,adata_omics1,features_omics1,features_omics2,adj_train,label,device,args,'kmeans')\n"
   ]
  }
 ],
 "metadata": {
  "kernelspec": {
   "display_name": "GraphST",
   "language": "python",
   "name": "python3"
  },
  "language_info": {
   "codemirror_mode": {
    "name": "ipython",
    "version": 3
   },
   "file_extension": ".py",
   "mimetype": "text/x-python",
   "name": "python",
   "nbconvert_exporter": "python",
   "pygments_lexer": "ipython3",
   "version": "3.8.15"
  }
 },
 "nbformat": 4,
 "nbformat_minor": 2
}
