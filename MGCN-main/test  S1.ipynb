{
 "cells": [
  {
   "cell_type": "code",
   "execution_count": 1,
   "metadata": {},
   "outputs": [
    {
     "name": "stderr",
     "output_type": "stream",
     "text": [
      "2025-04-25 16:57:52.015962: I tensorflow/core/platform/cpu_feature_guard.cc:193] This TensorFlow binary is optimized with oneAPI Deep Neural Network Library (oneDNN) to use the following CPU instructions in performance-critical operations:  AVX2 AVX512F AVX512_VNNI FMA\n",
      "To enable them in other operations, rebuild TensorFlow with the appropriate compiler flags.\n",
      "2025-04-25 16:57:52.293832: I tensorflow/core/util/port.cc:104] oneDNN custom operations are on. You may see slightly different numerical results due to floating-point round-off errors from different computation orders. To turn them off, set the environment variable `TF_ENABLE_ONEDNN_OPTS=0`.\n",
      "2025-04-25 16:57:53.598925: W tensorflow/compiler/xla/stream_executor/platform/default/dso_loader.cc:64] Could not load dynamic library 'libnvinfer.so.7'; dlerror: libnvinfer.so.7: cannot open shared object file: No such file or directory; LD_LIBRARY_PATH: /usr/local/lib:\n",
      "2025-04-25 16:57:53.599055: W tensorflow/compiler/xla/stream_executor/platform/default/dso_loader.cc:64] Could not load dynamic library 'libnvinfer_plugin.so.7'; dlerror: libnvinfer_plugin.so.7: cannot open shared object file: No such file or directory; LD_LIBRARY_PATH: /usr/local/lib:\n",
      "2025-04-25 16:57:53.599066: W tensorflow/compiler/tf2tensorrt/utils/py_utils.cc:38] TF-TRT Warning: Cannot dlopen some TensorRT libraries. If you would like to use Nvidia GPU with TensorRT, please make sure the missing libraries mentioned above are installed properly.\n"
     ]
    }
   ],
   "source": [
    "from utils.misc import *\n",
    "from train.train3 import Train,Test\n",
    "from datasets.data_utils import load_dataset\n",
    "from model.Creat_model import creat_model\n",
    "from utils.preprocess import *\n",
    "from utils.utils import *"
   ]
  },
  {
   "cell_type": "code",
   "execution_count": 2,
   "metadata": {},
   "outputs": [],
   "source": [
    "from torch.backends import cudnn\n",
    "def fix_seed(seed):\n",
    "    #seed = 2023\n",
    "    os.environ['PYTHONHASHSEED'] = str(seed)\n",
    "    random.seed(seed)\n",
    "    np.random.seed(seed)\n",
    "    torch.manual_seed(seed)\n",
    "    torch.cuda.manual_seed(seed)\n",
    "    torch.cuda.manual_seed_all(seed)\n",
    "    cudnn.deterministic = True\n",
    "    cudnn.benchmark = False\n",
    "    \n",
    "    os.environ['PYTHONHASHSEED'] = str(seed)\n",
    "    os.environ['CUBLAS_WORKSPACE_CONFIG'] = ':4096:8'   "
   ]
  },
  {
   "cell_type": "code",
   "execution_count": 3,
   "metadata": {},
   "outputs": [],
   "source": [
    "import networkx\n",
    "import torch\n",
    "import scipy.sparse as sp\n",
    "import numpy as np\n",
    "import os\n",
    "import random\n",
    "from munkres import Munkres\n",
    "from sklearn import metrics\n",
    "from sklearn.metrics import adjusted_rand_score as ari_score\n",
    "from sklearn.metrics.cluster import normalized_mutual_info_score as nmi_score\n",
    "from sklearn.decomposition import PCA\n",
    "from torch.utils.data import Dataset\n",
    "import argparse\n",
    "import yaml\n",
    "from torch_geometric.utils.convert import to_networkx\n",
    "import pynvml\n",
    "\n",
    "def build_args():\n",
    "    \n",
    "    parser = argparse.ArgumentParser(formatter_class=argparse.ArgumentDefaultsHelpFormatter)\n",
    "    parser.add_argument('--dataset', type=str, default=\"acm\")\n",
    "    parser.add_argument('--seed', type=int, default=20)\n",
    "    parser.add_argument('--cuda', type=bool, default=True)\n",
    "    parser.add_argument('--n_input', type=int, default=None)\n",
    "    parser.add_argument('--n_z', type=int, default=None)\n",
    "    parser.add_argument('--freedom_degree', type=float, default=1.0)\n",
    "    parser.add_argument('--epoch', type=int, default=None)\n",
    "    parser.add_argument('--shuffle', type=bool, default=True)\n",
    "    parser.add_argument('--sigma', type=float, default=None)\n",
    "    parser.add_argument('--loss_n', type=float, default=None)\n",
    "    parser.add_argument('--loss_w', type=float, default=None)\n",
    "    parser.add_argument('--loss_s', type=float, default=None)\n",
    "    parser.add_argument('--loss_a', type=float, default=None)\n",
    "    parser.add_argument('--lr', type=float, default=1e-4)\n",
    "    parser.add_argument('--acc', type=float, default=-1)\n",
    "    parser.add_argument('--f1', type=float, default=-1)\n",
    "    args = parser.parse_args([])\n",
    "    return args"
   ]
  },
  {
   "cell_type": "code",
   "execution_count": 4,
   "metadata": {},
   "outputs": [],
   "source": [
    "def pca(adata, use_reps=None, n_comps=10):\n",
    "    \n",
    "    \"\"\"Dimension reduction with PCA algorithm\"\"\"\n",
    "    \n",
    "    from sklearn.decomposition import PCA\n",
    "    from scipy.sparse.csc import csc_matrix\n",
    "    from scipy.sparse.csr import csr_matrix\n",
    "    pca = PCA(n_components=n_comps)\n",
    "    if use_reps is not None:\n",
    "       feat_pca = pca.fit_transform(adata.obsm[use_reps])\n",
    "    else: \n",
    "       if isinstance(adata.X, csc_matrix) or isinstance(adata.X, csr_matrix):\n",
    "          feat_pca = pca.fit_transform(adata.X.toarray()) \n",
    "       else:   \n",
    "          feat_pca = pca.fit_transform(adata.X)\n",
    "    \n",
    "    return feat_pca\n",
    "\n",
    "def clr_normalize_each_cell(adata, inplace=True):\n",
    "    \n",
    "    \"\"\"Normalize count vector for each cell, i.e. for each row of .X\"\"\"\n",
    "\n",
    "    import numpy as np\n",
    "    import scipy\n",
    "\n",
    "    def seurat_clr(x):\n",
    "        # TODO: support sparseness\n",
    "        s = np.sum(np.log1p(x[x > 0]))\n",
    "        exp = np.exp(s / len(x))\n",
    "        return np.log1p(x / exp)\n",
    "\n",
    "    if not inplace:\n",
    "        adata = adata.copy()\n",
    "    \n",
    "    # apply to dense or sparse matrix, along axis. returns dense matrix\n",
    "    adata.X = np.apply_along_axis(\n",
    "        seurat_clr, 1, (adata.X.A if scipy.sparse.issparse(adata.X) else np.array(adata.X))\n",
    "    )\n",
    "    return adata     "
   ]
  },
  {
   "cell_type": "code",
   "execution_count": 5,
   "metadata": {},
   "outputs": [
    {
     "name": "stdout",
     "output_type": "stream",
     "text": [
      "load configs\n"
     ]
    }
   ],
   "source": [
    "args = build_args()\n",
    "args = load_configs(args, \"config/configs.yml\")\n",
    "# set_random_seed(2024)\n",
    "device = torch.device(\"cuda\" if torch.cuda.is_available() else \"cpu\")"
   ]
  },
  {
   "cell_type": "code",
   "execution_count": 6,
   "metadata": {},
   "outputs": [],
   "source": [
    "# 淋巴结\n",
    "import scanpy as sc\n",
    "adata_omics1 = sc.read_h5ad( '/home/hfzhang/data/空间转录组/Human_lymph_node/slice1/s1_adata_rna.h5ad')\n",
    "adata_omics2 = sc.read_h5ad('/home/hfzhang/data/空间转录组/Human_lymph_node/slice1/s1_adata_adt.h5ad')\n",
    "\n",
    "adata_omics1.var_names_make_unique()\n",
    "adata_omics2.var_names_make_unique()\n",
    "adata_omics1 = adata_omics1[adata_omics1.obs['final_annot'].notna()]  \n",
    "adata_omics2 = adata_omics2[adata_omics2.obs['final_annot'].notna()] "
   ]
  },
  {
   "cell_type": "code",
   "execution_count": 7,
   "metadata": {},
   "outputs": [
    {
     "name": "stderr",
     "output_type": "stream",
     "text": [
      "/home/hfzhang/software/anaconda3/envs/GraphST/lib/python3.8/site-packages/scanpy/preprocessing/_simple.py:250: ImplicitModificationWarning: Trying to modify attribute `.var` of view, initializing view as actual.\n",
      "  adata.var['n_cells'] = number\n",
      "/tmp/ipykernel_29054/529664883.py:6: DeprecationWarning: Please use `csc_matrix` from the `scipy.sparse` namespace, the `scipy.sparse.csc` namespace is deprecated.\n",
      "  from scipy.sparse.csc import csc_matrix\n",
      "/tmp/ipykernel_29054/529664883.py:7: DeprecationWarning: Please use `csr_matrix` from the `scipy.sparse` namespace, the `scipy.sparse.csr` namespace is deprecated.\n",
      "  from scipy.sparse.csr import csr_matrix\n",
      "/home/hfzhang/software/anaconda3/envs/GraphST/lib/python3.8/site-packages/scanpy/preprocessing/_simple.py:843: UserWarning: Received a view of an AnnData. Making a copy.\n",
      "  view_to_actual(adata)\n",
      "/tmp/ipykernel_29054/529664883.py:6: DeprecationWarning: Please use `csc_matrix` from the `scipy.sparse` namespace, the `scipy.sparse.csc` namespace is deprecated.\n",
      "  from scipy.sparse.csc import csc_matrix\n",
      "/tmp/ipykernel_29054/529664883.py:7: DeprecationWarning: Please use `csr_matrix` from the `scipy.sparse` namespace, the `scipy.sparse.csr` namespace is deprecated.\n",
      "  from scipy.sparse.csr import csr_matrix\n"
     ]
    }
   ],
   "source": [
    "\n",
    "# RNA\n",
    "sc.pp.filter_genes(adata_omics1, min_cells=10)\n",
    "sc.pp.highly_variable_genes(adata_omics1, flavor=\"seurat_v3\", n_top_genes=3000)\n",
    "sc.pp.normalize_total(adata_omics1, target_sum=1e4)\n",
    "sc.pp.log1p(adata_omics1)\n",
    "sc.pp.scale(adata_omics1)\n",
    "\n",
    "adata_omics1 =  adata_omics1[:, adata_omics1.var['highly_variable']]\n",
    "adata_omics1.obsm['feat'] = pca(adata_omics1, n_comps=adata_omics2.n_vars-1)\n",
    "# Protein\n",
    "adata_omics2 = clr_normalize_each_cell(adata_omics2)\n",
    "sc.pp.scale(adata_omics2)\n",
    "adata_omics2.obsm['feat'] = pca(adata_omics2, n_comps=adata_omics2.n_vars-1)"
   ]
  },
  {
   "cell_type": "code",
   "execution_count": 8,
   "metadata": {},
   "outputs": [],
   "source": [
    "def create_adj(adata):\n",
    "    cell_position_omics1 = adata.obsm['spatial']\n",
    "    adj_omics1 = construct_graph_by_coordinate(cell_position_omics1, n_neighbors=3)\n",
    "    adata.uns['adj_spatial'] = adj_omics1\n",
    "    adj_spatial_omics1 = adata.uns['adj_spatial']\n",
    "    adj_spatial_omics1 = transform_adjacent_matrix(adj_spatial_omics1)\n",
    "    adj_spatial_omics1 = adj_spatial_omics1.toarray()\n",
    "    adj_spatial_omics1 = adj_spatial_omics1 + adj_spatial_omics1.T\n",
    "    adj_spatial_omics1 = np.where(adj_spatial_omics1>1, 1, adj_spatial_omics1)\n",
    "    adj = preprocess_graph(adj_spatial_omics1)\n",
    "    return adj"
   ]
  },
  {
   "cell_type": "code",
   "execution_count": 9,
   "metadata": {},
   "outputs": [],
   "source": [
    "label=adata_omics2.obs['final_annot'].values\n",
    "classes, label = np.unique(label, return_inverse=True)\n",
    "classes = classes.tolist()"
   ]
  },
  {
   "cell_type": "code",
   "execution_count": 10,
   "metadata": {},
   "outputs": [],
   "source": [
    "args.n_input=adata_omics2.n_vars-1\n",
    "args.n_input1=adata_omics2.n_vars-1\n",
    "args.n_clusters=len(classes)\n",
    "device='cuda:1'\n",
    "args.n_clusters\n",
    "random_seek=2024\n",
    "args.Type='10x'\n",
    "# # # args.name='Human_tonsil2'\n",
    "# # if args.Type == 'Spots':\n",
    "# #     args.epoch=200\n",
    "# #     args.loss_n=0.01\n",
    "# elif args.Type == '10x':\n",
    "#     args.loss_n=0.001\n",
    "#     args.epoch=300\n",
    "# # elif args.Type == 'Stereo-CITE-seq':\n",
    "# #     args.loss_n=0.001\n",
    "# #     args.epoch=800\n",
    "# # elif args.Type == 'humanplacenta':\n",
    "# #     args.loss_n=0.01\n",
    "# #     args.epoch=300\n",
    "# # args.n_clusters=len(classes)"
   ]
  },
  {
   "cell_type": "code",
   "execution_count": 11,
   "metadata": {},
   "outputs": [],
   "source": [
    "args.random_seed=random_seek\n",
    "fix_seed(random_seek)"
   ]
  },
  {
   "cell_type": "code",
   "execution_count": 12,
   "metadata": {},
   "outputs": [
    {
     "data": {
      "text/plain": [
       "0.01"
      ]
     },
     "execution_count": 12,
     "metadata": {},
     "output_type": "execute_result"
    }
   ],
   "source": [
    "args.loss_n"
   ]
  },
  {
   "cell_type": "code",
   "execution_count": 13,
   "metadata": {},
   "outputs": [],
   "source": [
    "# args.epoch=500\n",
    "# args.ln=0.001\n",
    "# args.lr=0.0001"
   ]
  },
  {
   "cell_type": "code",
   "execution_count": 14,
   "metadata": {},
   "outputs": [],
   "source": [
    "args.loss_n=0.001\n",
    "args.epoch=300"
   ]
  },
  {
   "cell_type": "code",
   "execution_count": 15,
   "metadata": {},
   "outputs": [],
   "source": [
    "args.tool='kmeans'"
   ]
  },
  {
   "cell_type": "code",
   "execution_count": 18,
   "metadata": {},
   "outputs": [
    {
     "name": "stdout",
     "output_type": "stream",
     "text": [
      "  9 loss: 8.42825984954834\n",
      "Epoch_  9 , nmi 0.3230 , ari 0.1878 , ami 0.3187 , homogeneity 0.3560 , completeness 0.2956 , v_measure 0.3230\n",
      " 19 loss: 8.39711856842041\n",
      "Epoch_ 19 , nmi 0.3255 , ari 0.1861 , ami 0.3211 , homogeneity 0.3585 , completeness 0.2980 , v_measure 0.3255\n",
      " 29 loss: 8.356818199157715\n",
      "Epoch_ 29 , nmi 0.3282 , ari 0.1841 , ami 0.3239 , homogeneity 0.3591 , completeness 0.3022 , v_measure 0.3282\n",
      " 39 loss: 8.309269905090332\n",
      "Epoch_ 39 , nmi 0.3207 , ari 0.1794 , ami 0.3164 , homogeneity 0.3516 , completeness 0.2949 , v_measure 0.3207\n",
      " 49 loss: 8.232912063598633\n",
      "Epoch_ 49 , nmi 0.3061 , ari 0.1666 , ami 0.3018 , homogeneity 0.3402 , completeness 0.2783 , v_measure 0.3061\n",
      " 59 loss: 8.130343437194824\n",
      "Epoch_ 59 , nmi 0.3017 , ari 0.1649 , ami 0.2973 , homogeneity 0.3351 , completeness 0.2743 , v_measure 0.3017\n",
      " 69 loss: 7.9960551261901855\n",
      "Epoch_ 69 , nmi 0.2995 , ari 0.1640 , ami 0.2950 , homogeneity 0.3332 , completeness 0.2720 , v_measure 0.2995\n",
      " 79 loss: 7.82376766204834\n",
      "Epoch_ 79 , nmi 0.2996 , ari 0.1648 , ami 0.2952 , homogeneity 0.3334 , completeness 0.2721 , v_measure 0.2996\n",
      " 89 loss: 7.608947277069092\n",
      "Epoch_ 89 , nmi 0.3016 , ari 0.1661 , ami 0.2972 , homogeneity 0.3351 , completeness 0.2742 , v_measure 0.3016\n",
      " 99 loss: 7.3502726554870605\n",
      "Epoch_ 99 , nmi 0.3018 , ari 0.1680 , ami 0.2974 , homogeneity 0.3330 , completeness 0.2760 , v_measure 0.3018\n",
      "109 loss: 7.052295684814453\n",
      "Epoch_109 , nmi 0.3058 , ari 0.1696 , ami 0.3014 , homogeneity 0.3387 , completeness 0.2787 , v_measure 0.3058\n",
      "119 loss: 6.731781482696533\n",
      "Epoch_119 , nmi 0.3034 , ari 0.1702 , ami 0.2990 , homogeneity 0.3347 , completeness 0.2774 , v_measure 0.3034\n",
      "129 loss: 6.420050144195557\n",
      "Epoch_129 , nmi 0.3105 , ari 0.1764 , ami 0.3061 , homogeneity 0.3415 , completeness 0.2846 , v_measure 0.3105\n",
      "139 loss: 6.156840801239014\n",
      "Epoch_139 , nmi 0.3137 , ari 0.1796 , ami 0.3093 , homogeneity 0.3444 , completeness 0.2880 , v_measure 0.3137\n",
      "149 loss: 5.969118118286133\n",
      "Epoch_149 , nmi 0.3161 , ari 0.1844 , ami 0.3117 , homogeneity 0.3464 , completeness 0.2907 , v_measure 0.3161\n",
      "159 loss: 5.847549915313721\n",
      "Epoch_159 , nmi 0.3113 , ari 0.1937 , ami 0.3069 , homogeneity 0.3401 , completeness 0.2871 , v_measure 0.3113\n",
      "169 loss: 5.7588629722595215\n",
      "Epoch_169 , nmi 0.3233 , ari 0.2087 , ami 0.3190 , homogeneity 0.3501 , completeness 0.3003 , v_measure 0.3233\n",
      "179 loss: 5.682570934295654\n",
      "Epoch_179 , nmi 0.3268 , ari 0.2095 , ami 0.3225 , homogeneity 0.3529 , completeness 0.3044 , v_measure 0.3268\n",
      "189 loss: 5.613926410675049\n",
      "Epoch_189 , nmi 0.3286 , ari 0.2130 , ami 0.3243 , homogeneity 0.3559 , completeness 0.3052 , v_measure 0.3286\n",
      "199 loss: 5.5504469871521\n",
      "Epoch_199 , nmi 0.3306 , ari 0.2153 , ami 0.3263 , homogeneity 0.3553 , completeness 0.3091 , v_measure 0.3306\n",
      "209 loss: 5.490356922149658\n",
      "Epoch_209 , nmi 0.3346 , ari 0.2172 , ami 0.3303 , homogeneity 0.3603 , completeness 0.3123 , v_measure 0.3346\n",
      "219 loss: 5.432671070098877\n",
      "Epoch_219 , nmi 0.3354 , ari 0.2168 , ami 0.3310 , homogeneity 0.3585 , completeness 0.3150 , v_measure 0.3354\n",
      "229 loss: 5.376602649688721\n",
      "Epoch_229 , nmi 0.3469 , ari 0.2261 , ami 0.3426 , homogeneity 0.3648 , completeness 0.3307 , v_measure 0.3469\n",
      "239 loss: 5.320645332336426\n",
      "Epoch_239 , nmi 0.3506 , ari 0.2218 , ami 0.3463 , homogeneity 0.3731 , completeness 0.3306 , v_measure 0.3506\n",
      "249 loss: 5.2633891105651855\n",
      "Epoch_249 , nmi 0.3937 , ari 0.2627 , ami 0.3897 , homogeneity 0.4216 , completeness 0.3692 , v_measure 0.3937\n",
      "259 loss: 5.203681945800781\n",
      "Epoch_259 , nmi 0.4008 , ari 0.2682 , ami 0.3969 , homogeneity 0.4273 , completeness 0.3775 , v_measure 0.4008\n",
      "269 loss: 5.141314506530762\n",
      "Epoch_269 , nmi 0.4066 , ari 0.2760 , ami 0.4027 , homogeneity 0.4340 , completeness 0.3825 , v_measure 0.4066\n",
      "279 loss: 5.076296806335449\n",
      "Epoch_279 , nmi 0.4047 , ari 0.2720 , ami 0.4008 , homogeneity 0.4276 , completeness 0.3841 , v_measure 0.4047\n",
      "289 loss: 5.0088791847229\n",
      "Epoch_289 , nmi 0.4159 , ari 0.2829 , ami 0.4120 , homogeneity 0.4412 , completeness 0.3933 , v_measure 0.4159\n",
      "299 loss: 4.939835071563721\n",
      "Epoch_299 , nmi 0.4136 , ari 0.2827 , ami 0.4096 , homogeneity 0.4273 , completeness 0.4006 , v_measure 0.4136\n",
      "xunlian\n",
      "name: acm\n",
      "NMI : 0.4159\n",
      "ARI : 0.2829\n",
      "AMI  : 0.4120\n",
      "Epoch_  0 , nmi 0.4157 , ari 0.2824 , ami 0.4118 , homogeneity 0.4382 , completeness 0.3953 , v_measure 0.4157\n",
      "聚类方法为kmeans\n",
      "test\n",
      "name: acm\n",
      "NMI : 0.4157\n",
      "ARI : 0.2824\n",
      "AMI  : 0.4118\n",
      "NMI: 0.4157, ARI: 0.2824, AMI: 0.4118, Homogeneity: 0.4382, Completeness: 0.3953, V-measure: 0.4157\n"
     ]
    }
   ],
   "source": [
    "# adata_omics1_train, adata_omics2_train = adata_omics1, adata_omics1\n",
    "# adata_omics2_train,adata_omics2_test =adata_omics2, adata_omics2\n",
    "# label_train,label_test=label,label\n",
    "args.n_clusters1=len(set(label))\n",
    "args.n_clusters2=len(set(label))\n",
    "adj_train=create_adj(adata_omics1)\n",
    "# adj_test=create_adj(adata_omics1_test)\n",
    "adj_train = adj_train.to(device)\n",
    "# adj_test = adj_test.to(device)\n",
    "features_omics1 = torch.FloatTensor(adata_omics1.obsm['feat'].copy()).to(device)\n",
    "features_omics2 = torch.FloatTensor(adata_omics2.obsm['feat'].copy()).to(device)\n",
    "# features_omics1_test = torch.FloatTensor(adata_omics1_test.obsm['feat'].copy()).to(device)\n",
    "# features_omics2_test = torch.FloatTensor(adata_omics2_test.obsm['feat'].copy()).to(device)\n",
    "\n",
    "model = creat_model('spamgcn', args).to(device)\n",
    "# model=preTrain(200, model, features_omics1_train,features_omics2_train, adj_train, label_train, device, args)\n",
    "model=Train(300, model, adata_omics1,features_omics1,features_omics2, adj_train, label, device, args)\n",
    "nmi, ari, ami, homogeneity, completeness, v_measure=Test(model,adata_omics1,features_omics1,features_omics2,adj_train,label,device,args,'kmeans')\n",
    "# adata_omics1.write_h5ad('/home/hfzhang/workplace/compare/spaMGCN-main/MGCN-main/save/spaMGCN_S1_400_'+str(random_seek)+'.h5ad')\n",
    "print(f\"NMI: {nmi:.4f}, ARI: {ari:.4f}, AMI: {ami:.4f}, Homogeneity: {homogeneity:.4f}, Completeness: {completeness:.4f}, V-measure: {v_measure:.4f}\")"
   ]
  }
 ],
 "metadata": {
  "kernelspec": {
   "display_name": "GraphST",
   "language": "python",
   "name": "python3"
  },
  "language_info": {
   "codemirror_mode": {
    "name": "ipython",
    "version": 3
   },
   "file_extension": ".py",
   "mimetype": "text/x-python",
   "name": "python",
   "nbconvert_exporter": "python",
   "pygments_lexer": "ipython3",
   "version": "3.8.15"
  }
 },
 "nbformat": 4,
 "nbformat_minor": 2
}
