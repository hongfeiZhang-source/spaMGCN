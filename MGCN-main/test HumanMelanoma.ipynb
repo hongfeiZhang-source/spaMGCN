{
 "cells": [
  {
   "cell_type": "code",
   "execution_count": 1,
   "metadata": {},
   "outputs": [],
   "source": [
    "from utils.misc import *\n",
    "from train_single.train import Train,Test\n",
    "from datasets.data_utils import load_dataset\n",
    "from model_single.Creat_model import creat_model"
   ]
  },
  {
   "cell_type": "code",
   "execution_count": 2,
   "metadata": {},
   "outputs": [],
   "source": [
    "from torch.backends import cudnn\n",
    "def fix_seed(seed):\n",
    "    #seed = 2023\n",
    "    os.environ['PYTHONHASHSEED'] = str(seed)\n",
    "    random.seed(seed)\n",
    "    np.random.seed(seed)\n",
    "    torch.manual_seed(seed)\n",
    "    torch.cuda.manual_seed(seed)\n",
    "    torch.cuda.manual_seed_all(seed)\n",
    "    cudnn.deterministic = True\n",
    "    cudnn.benchmark = False\n",
    "    \n",
    "    os.environ['PYTHONHASHSEED'] = str(seed)\n",
    "    os.environ['CUBLAS_WORKSPACE_CONFIG'] = ':4096:8'   "
   ]
  },
  {
   "cell_type": "code",
   "execution_count": 3,
   "metadata": {},
   "outputs": [],
   "source": [
    "import networkx\n",
    "import torch\n",
    "import scipy.sparse as sp\n",
    "import numpy as np\n",
    "import os\n",
    "import random\n",
    "from munkres import Munkres\n",
    "from sklearn import metrics\n",
    "from sklearn.metrics import adjusted_rand_score as ari_score\n",
    "from sklearn.metrics.cluster import normalized_mutual_info_score as nmi_score\n",
    "from sklearn.decomposition import PCA\n",
    "from torch.utils.data import Dataset\n",
    "import argparse\n",
    "import yaml\n",
    "from torch_geometric.utils.convert import to_networkx\n",
    "import pynvml\n",
    "\n",
    "def build_args():\n",
    "    \n",
    "    parser = argparse.ArgumentParser(formatter_class=argparse.ArgumentDefaultsHelpFormatter)\n",
    "    parser.add_argument('--dataset', type=str, default=\"acm\")\n",
    "    parser.add_argument('--seed', type=int, default=20)\n",
    "    parser.add_argument('--cuda', type=bool, default=True)\n",
    "    parser.add_argument('--n_input', type=int, default=None)\n",
    "    parser.add_argument('--n_z', type=int, default=None)\n",
    "    parser.add_argument('--freedom_degree', type=float, default=1.0)\n",
    "    parser.add_argument('--epoch', type=int, default=None)\n",
    "    parser.add_argument('--shuffle', type=bool, default=True)\n",
    "    parser.add_argument('--sigma', type=float, default=None)\n",
    "    parser.add_argument('--loss_n', type=float, default=None)\n",
    "    parser.add_argument('--loss_w', type=float, default=None)\n",
    "    parser.add_argument('--loss_s', type=float, default=None)\n",
    "    parser.add_argument('--loss_a', type=float, default=None)\n",
    "    parser.add_argument('--lr', type=float, default=1e-4)\n",
    "    parser.add_argument('--acc', type=float, default=-1)\n",
    "    parser.add_argument('--f1', type=float, default=-1)\n",
    "    args = parser.parse_args([])\n",
    "    return args"
   ]
  },
  {
   "cell_type": "code",
   "execution_count": 4,
   "metadata": {},
   "outputs": [],
   "source": [
    "def pca(adata, use_reps=None, n_comps=10):\n",
    "    \n",
    "    \"\"\"Dimension reduction with PCA algorithm\"\"\"\n",
    "    \n",
    "    from sklearn.decomposition import PCA\n",
    "    from scipy.sparse.csc import csc_matrix\n",
    "    from scipy.sparse.csr import csr_matrix\n",
    "    pca = PCA(n_components=n_comps)\n",
    "    if use_reps is not None:\n",
    "       feat_pca = pca.fit_transform(adata.obsm[use_reps])\n",
    "    else: \n",
    "       if isinstance(adata.X, csc_matrix) or isinstance(adata.X, csr_matrix):\n",
    "          feat_pca = pca.fit_transform(adata.X.toarray()) \n",
    "       else:   \n",
    "          feat_pca = pca.fit_transform(adata.X)\n",
    "    \n",
    "    return feat_pca\n",
    "\n",
    "def clr_normalize_each_cell(adata, inplace=True):\n",
    "    \n",
    "    \"\"\"Normalize count vector for each cell, i.e. for each row of .X\"\"\"\n",
    "\n",
    "    import numpy as np\n",
    "    import scipy\n",
    "\n",
    "    def seurat_clr(x):\n",
    "        # TODO: support sparseness\n",
    "        s = np.sum(np.log1p(x[x > 0]))\n",
    "        exp = np.exp(s / len(x))\n",
    "        return np.log1p(x / exp)\n",
    "\n",
    "    if not inplace:\n",
    "        adata = adata.copy()\n",
    "    \n",
    "    # apply to dense or sparse matrix, along axis. returns dense matrix\n",
    "    adata.X = np.apply_along_axis(\n",
    "        seurat_clr, 1, (adata.X.A if scipy.sparse.issparse(adata.X) else np.array(adata.X))\n",
    "    )\n",
    "    return adata     "
   ]
  },
  {
   "cell_type": "code",
   "execution_count": 5,
   "metadata": {},
   "outputs": [
    {
     "name": "stdout",
     "output_type": "stream",
     "text": [
      "load configs\n"
     ]
    }
   ],
   "source": [
    "args = build_args()\n",
    "args = load_configs(args, \"config/configs.yml\")\n",
    "# set_random_seed(2024)\n",
    "device = torch.device(\"cuda\" if torch.cuda.is_available() else \"cpu\")"
   ]
  },
  {
   "cell_type": "code",
   "execution_count": 6,
   "metadata": {},
   "outputs": [],
   "source": [
    "import scanpy as sc\n",
    "adata_omics1 = sc.read_h5ad('/home/hfzhang/data/空间转录组/单细胞分辨率空间转录组数据/HumanMelanoma.h5ad')\n",
    "adata_omics1.var_names_make_unique()"
   ]
  },
  {
   "cell_type": "code",
   "execution_count": 7,
   "metadata": {},
   "outputs": [
    {
     "name": "stderr",
     "output_type": "stream",
     "text": [
      "/home/hfzhang/software/anaconda3/envs/GraphST/lib/python3.8/site-packages/scanpy/preprocessing/_highly_variable_genes.py:64: UserWarning: `flavor='seurat_v3'` expects raw count data, but non-integers were found.\n",
      "  warnings.warn(\n"
     ]
    }
   ],
   "source": [
    "\n",
    "# RNA\n",
    "sc.pp.filter_genes(adata_omics1, min_cells=10)\n",
    "sc.pp.highly_variable_genes(adata_omics1, flavor=\"seurat_v3\", n_top_genes=3000)\n",
    "sc.pp.normalize_total(adata_omics1, target_sum=1e4)\n",
    "sc.pp.log1p(adata_omics1)\n",
    "sc.pp.scale(adata_omics1)\n",
    "\n",
    "adata_omics1 =  adata_omics1[:, adata_omics1.var['highly_variable']]"
   ]
  },
  {
   "cell_type": "code",
   "execution_count": 8,
   "metadata": {},
   "outputs": [
    {
     "name": "stderr",
     "output_type": "stream",
     "text": [
      "2025-03-20 19:32:53.595241: I tensorflow/core/platform/cpu_feature_guard.cc:193] This TensorFlow binary is optimized with oneAPI Deep Neural Network Library (oneDNN) to use the following CPU instructions in performance-critical operations:  AVX2 AVX512F AVX512_VNNI FMA\n",
      "To enable them in other operations, rebuild TensorFlow with the appropriate compiler flags.\n",
      "2025-03-20 19:32:53.725069: I tensorflow/core/util/port.cc:104] oneDNN custom operations are on. You may see slightly different numerical results due to floating-point round-off errors from different computation orders. To turn them off, set the environment variable `TF_ENABLE_ONEDNN_OPTS=0`.\n",
      "2025-03-20 19:32:54.437198: W tensorflow/compiler/xla/stream_executor/platform/default/dso_loader.cc:64] Could not load dynamic library 'libnvinfer.so.7'; dlerror: libnvinfer.so.7: cannot open shared object file: No such file or directory; LD_LIBRARY_PATH: /usr/local/lib:\n",
      "2025-03-20 19:32:54.437275: W tensorflow/compiler/xla/stream_executor/platform/default/dso_loader.cc:64] Could not load dynamic library 'libnvinfer_plugin.so.7'; dlerror: libnvinfer_plugin.so.7: cannot open shared object file: No such file or directory; LD_LIBRARY_PATH: /usr/local/lib:\n",
      "2025-03-20 19:32:54.437283: W tensorflow/compiler/tf2tensorrt/utils/py_utils.cc:38] TF-TRT Warning: Cannot dlopen some TensorRT libraries. If you would like to use Nvidia GPU with TensorRT, please make sure the missing libraries mentioned above are installed properly.\n"
     ]
    }
   ],
   "source": [
    "from utils.preprocess import *\n",
    "from utils.utils import *"
   ]
  },
  {
   "cell_type": "code",
   "execution_count": 9,
   "metadata": {},
   "outputs": [],
   "source": [
    "def create_adj(adata):\n",
    "    cell_position_omics1 = adata.obsm['spatial']\n",
    "    adj_omics1 = construct_graph_by_coordinate(cell_position_omics1, n_neighbors=3)\n",
    "    adata.uns['adj_spatial'] = adj_omics1\n",
    "    adj_spatial_omics1 = adata.uns['adj_spatial']\n",
    "    adj_spatial_omics1 = transform_adjacent_matrix(adj_spatial_omics1)\n",
    "    adj_spatial_omics1 = adj_spatial_omics1.toarray()\n",
    "    adj_spatial_omics1 = adj_spatial_omics1 + adj_spatial_omics1.T\n",
    "    adj_spatial_omics1 = np.where(adj_spatial_omics1>1, 1, adj_spatial_omics1)\n",
    "    adj = preprocess_graph(adj_spatial_omics1)\n",
    "    return adj"
   ]
  },
  {
   "cell_type": "code",
   "execution_count": 10,
   "metadata": {},
   "outputs": [],
   "source": [
    "label = adata_omics1.obs['cell_type'].astype(str) #先全部转成string  \n",
    "label[pd.isna(label)] = \"nan\"  # 将缺失值替换为 \"NA\"，前提是你用了pandas\n",
    "# label=adata_omics1.obs['ground_truth'].values\n",
    "classes, label = np.unique(label, return_inverse=True)\n",
    "classes = classes.tolist()"
   ]
  },
  {
   "cell_type": "code",
   "execution_count": 11,
   "metadata": {},
   "outputs": [],
   "source": [
    "args.n_input=3000\n",
    "args.n_clusters1=len(classes)\n",
    "args.n_clusters2=len(classes)\n",
    "args.n_clusters\n",
    "args.Type='10x'\n",
    "args.n_clusters=len(classes)"
   ]
  },
  {
   "cell_type": "code",
   "execution_count": 50,
   "metadata": {},
   "outputs": [],
   "source": [
    "random_seed=2022\n",
    "args.random_seed=random_seed\n",
    "fix_seed(random_seed)"
   ]
  },
  {
   "cell_type": "code",
   "execution_count": 48,
   "metadata": {},
   "outputs": [],
   "source": [
    "args.loss_n=0.01\n",
    "args.loss_a=0.01\n",
    "args.lr=0.01\n",
    "args.sigma=0.4"
   ]
  },
  {
   "cell_type": "code",
   "execution_count": 36,
   "metadata": {},
   "outputs": [],
   "source": [
    "args.lr=0.001"
   ]
  },
  {
   "cell_type": "code",
   "execution_count": 37,
   "metadata": {},
   "outputs": [],
   "source": [
    "args.tool='kmeans'"
   ]
  },
  {
   "cell_type": "code",
   "execution_count": 51,
   "metadata": {},
   "outputs": [
    {
     "name": "stdout",
     "output_type": "stream",
     "text": [
      "tool: kmeans\n",
      "  9 loss: 1.06014084815979\n",
      "Epoch_  9 , nmi 0.6306 , ari 0.4116 , ami 0.6281 , homogeneity 0.7325 , completeness 0.5536 , v_measure 0.6306\n",
      " 19 loss: 1.0158575773239136\n",
      "Epoch_ 19 , nmi 0.6532 , ari 0.4251 , ami 0.6509 , homogeneity 0.7639 , completeness 0.5705 , v_measure 0.6532\n",
      " 29 loss: 1.0342364311218262\n",
      "Epoch_ 29 , nmi 0.6362 , ari 0.3964 , ami 0.6338 , homogeneity 0.7500 , completeness 0.5523 , v_measure 0.6362\n",
      " 39 loss: 1.108321189880371\n",
      "Epoch_ 39 , nmi 0.6127 , ari 0.3704 , ami 0.6101 , homogeneity 0.7287 , completeness 0.5285 , v_measure 0.6127\n",
      " 49 loss: 1.0440815687179565\n",
      "Epoch_ 49 , nmi 0.6523 , ari 0.4555 , ami 0.6500 , homogeneity 0.7425 , completeness 0.5817 , v_measure 0.6523\n",
      " 59 loss: 1.0230447053909302\n",
      "Epoch_ 59 , nmi 0.6355 , ari 0.4205 , ami 0.6331 , homogeneity 0.7462 , completeness 0.5534 , v_measure 0.6355\n",
      " 69 loss: 1.0118885040283203\n",
      "Epoch_ 69 , nmi 0.6424 , ari 0.4297 , ami 0.6400 , homogeneity 0.7426 , completeness 0.5660 , v_measure 0.6424\n",
      " 79 loss: 1.00890052318573\n",
      "Epoch_ 79 , nmi 0.6725 , ari 0.4600 , ami 0.6703 , homogeneity 0.7632 , completeness 0.6010 , v_measure 0.6725\n",
      " 89 loss: 1.0037922859191895\n",
      "Epoch_ 89 , nmi 0.6850 , ari 0.4793 , ami 0.6829 , homogeneity 0.7757 , completeness 0.6132 , v_measure 0.6850\n",
      " 99 loss: 0.9993112087249756\n",
      "Epoch_ 99 , nmi 0.6793 , ari 0.4813 , ami 0.6771 , homogeneity 0.7685 , completeness 0.6086 , v_measure 0.6793\n",
      "109 loss: 0.9959200024604797\n",
      "Epoch_109 , nmi 0.6480 , ari 0.4450 , ami 0.6457 , homogeneity 0.7435 , completeness 0.5743 , v_measure 0.6480\n",
      "119 loss: 1.0173394680023193\n",
      "Epoch_119 , nmi 0.6392 , ari 0.4246 , ami 0.6368 , homogeneity 0.7432 , completeness 0.5607 , v_measure 0.6392\n",
      "129 loss: 0.9983888268470764\n",
      "Epoch_129 , nmi 0.6578 , ari 0.4333 , ami 0.6555 , homogeneity 0.7564 , completeness 0.5819 , v_measure 0.6578\n",
      "139 loss: 0.9916205406188965\n",
      "Epoch_139 , nmi 0.6446 , ari 0.4319 , ami 0.6422 , homogeneity 0.7295 , completeness 0.5774 , v_measure 0.6446\n",
      "149 loss: 0.987567126750946\n",
      "Epoch_149 , nmi 0.6107 , ari 0.3839 , ami 0.6082 , homogeneity 0.7043 , completeness 0.5391 , v_measure 0.6107\n",
      "159 loss: 0.9842857122421265\n",
      "Epoch_159 , nmi 0.5766 , ari 0.3474 , ami 0.5738 , homogeneity 0.6769 , completeness 0.5022 , v_measure 0.5766\n",
      "169 loss: 0.9813767075538635\n",
      "Epoch_169 , nmi 0.5516 , ari 0.3581 , ami 0.5485 , homogeneity 0.6341 , completeness 0.4880 , v_measure 0.5516\n",
      "179 loss: 0.9785922169685364\n",
      "Epoch_179 , nmi 0.5491 , ari 0.3265 , ami 0.5461 , homogeneity 0.6462 , completeness 0.4774 , v_measure 0.5491\n",
      "189 loss: 0.9840811491012573\n",
      "Epoch_189 , nmi 0.5203 , ari 0.3138 , ami 0.5171 , homogeneity 0.6090 , completeness 0.4541 , v_measure 0.5203\n",
      "199 loss: 0.9755921959877014\n",
      "Epoch_199 , nmi 0.5333 , ari 0.3174 , ami 0.5302 , homogeneity 0.6273 , completeness 0.4638 , v_measure 0.5333\n",
      "209 loss: 0.971476674079895\n",
      "Epoch_209 , nmi 0.5389 , ari 0.3229 , ami 0.5359 , homogeneity 0.6421 , completeness 0.4643 , v_measure 0.5389\n",
      "219 loss: 0.9685460925102234\n",
      "Epoch_219 , nmi 0.4739 , ari 0.2791 , ami 0.4704 , homogeneity 0.5559 , completeness 0.4130 , v_measure 0.4739\n",
      "229 loss: 0.9661939740180969\n",
      "Epoch_229 , nmi 0.4411 , ari 0.2370 , ami 0.4374 , homogeneity 0.5190 , completeness 0.3835 , v_measure 0.4411\n",
      "239 loss: 0.9650322794914246\n",
      "Epoch_239 , nmi 0.5170 , ari 0.3098 , ami 0.5138 , homogeneity 0.6063 , completeness 0.4506 , v_measure 0.5170\n",
      "249 loss: 0.9615066647529602\n",
      "Epoch_249 , nmi 0.4359 , ari 0.2564 , ami 0.4321 , homogeneity 0.5104 , completeness 0.3803 , v_measure 0.4359\n",
      "259 loss: 0.9589797258377075\n",
      "Epoch_259 , nmi 0.5191 , ari 0.3134 , ami 0.5159 , homogeneity 0.6091 , completeness 0.4522 , v_measure 0.5191\n",
      "xunlian\n",
      "name: acm\n",
      "NMI : 0.6850\n",
      "ARI : 0.4793\n",
      "AMI  : 0.6829\n",
      "fitting ...\n",
      "  |======================================================================| 100%\n",
      "Epoch_  0 , nmi 0.7668 , ari 0.7038 , ami 0.7652 , homogeneity 0.8214 , completeness 0.7190 , v_measure 0.7668\n",
      "聚类方法为mclust\n",
      "test\n",
      "name: acm\n",
      "NMI : 0.7668\n",
      "ARI : 0.7038\n",
      "AMI  : 0.7652\n"
     ]
    }
   ],
   "source": [
    "args.n_clusters1=len(set(label))\n",
    "args.n_clusters2=len(set(label))\n",
    "adj_train=create_adj(adata_omics1)\n",
    "adj_train = adj_train.to(device)\n",
    "features_omics1_train = torch.FloatTensor(adata_omics1.X.copy()).to(device)\n",
    "\n",
    "model = creat_model('spamgcn', args).to(device)\n",
    "model=Train(260, model,adata_omics1, features_omics1_train, adj_train, label, device, args)\n",
    "nmi, ari, ami, homogeneity, completeness, v_measure=Test(model,adata_omics1,features_omics1_train,adj_train,label,device,args,'mclust')\n"
   ]
  }
 ],
 "metadata": {
  "kernelspec": {
   "display_name": "GraphST",
   "language": "python",
   "name": "python3"
  },
  "language_info": {
   "codemirror_mode": {
    "name": "ipython",
    "version": 3
   },
   "file_extension": ".py",
   "mimetype": "text/x-python",
   "name": "python",
   "nbconvert_exporter": "python",
   "pygments_lexer": "ipython3",
   "version": "3.8.15"
  }
 },
 "nbformat": 4,
 "nbformat_minor": 2
}
