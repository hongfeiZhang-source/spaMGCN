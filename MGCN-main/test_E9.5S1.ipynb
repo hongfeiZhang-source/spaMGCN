{
 "cells": [
  {
   "cell_type": "code",
   "execution_count": 2,
   "metadata": {},
   "outputs": [],
   "source": [
    "from utils.misc import *\n",
    "from train_single.train import Train,Test\n",
    "from datasets.data_utils import load_dataset\n",
    "from model_single.Creat_model import creat_model"
   ]
  },
  {
   "cell_type": "code",
   "execution_count": 1,
   "metadata": {},
   "outputs": [],
   "source": [
    "from torch.backends import cudnn\n",
    "def fix_seed(seed):\n",
    "    #seed = 2023\n",
    "    os.environ['PYTHONHASHSEED'] = str(seed)\n",
    "    random.seed(seed)\n",
    "    np.random.seed(seed)\n",
    "    torch.manual_seed(seed)\n",
    "    torch.cuda.manual_seed(seed)\n",
    "    torch.cuda.manual_seed_all(seed)\n",
    "    cudnn.deterministic = True\n",
    "    cudnn.benchmark = False\n",
    "    \n",
    "    os.environ['PYTHONHASHSEED'] = str(seed)\n",
    "    os.environ['CUBLAS_WORKSPACE_CONFIG'] = ':4096:8'   "
   ]
  },
  {
   "cell_type": "code",
   "execution_count": 3,
   "metadata": {},
   "outputs": [],
   "source": [
    "import networkx\n",
    "import torch\n",
    "import scipy.sparse as sp\n",
    "import numpy as np\n",
    "import os\n",
    "import random\n",
    "from munkres import Munkres\n",
    "from sklearn import metrics\n",
    "from sklearn.metrics import adjusted_rand_score as ari_score\n",
    "from sklearn.metrics.cluster import normalized_mutual_info_score as nmi_score\n",
    "from sklearn.decomposition import PCA\n",
    "from torch.utils.data import Dataset\n",
    "import argparse\n",
    "import yaml\n",
    "from torch_geometric.utils.convert import to_networkx\n",
    "import pynvml\n",
    "\n",
    "def build_args():\n",
    "    \n",
    "    parser = argparse.ArgumentParser(formatter_class=argparse.ArgumentDefaultsHelpFormatter)\n",
    "    parser.add_argument('--dataset', type=str, default=\"acm\")\n",
    "    parser.add_argument('--seed', type=int, default=20)\n",
    "    parser.add_argument('--cuda', type=bool, default=True)\n",
    "    parser.add_argument('--n_input', type=int, default=None)\n",
    "    parser.add_argument('--n_z', type=int, default=None)\n",
    "    parser.add_argument('--freedom_degree', type=float, default=1.0)\n",
    "    parser.add_argument('--epoch', type=int, default=None)\n",
    "    parser.add_argument('--shuffle', type=bool, default=True)\n",
    "    parser.add_argument('--sigma', type=float, default=None)\n",
    "    parser.add_argument('--loss_n', type=float, default=None)\n",
    "    parser.add_argument('--loss_w', type=float, default=None)\n",
    "    parser.add_argument('--loss_s', type=float, default=None)\n",
    "    parser.add_argument('--loss_a', type=float, default=None)\n",
    "    parser.add_argument('--lr', type=float, default=1e-4)\n",
    "    parser.add_argument('--acc', type=float, default=-1)\n",
    "    parser.add_argument('--f1', type=float, default=-1)\n",
    "    args = parser.parse_args([])\n",
    "    return args"
   ]
  },
  {
   "cell_type": "code",
   "execution_count": 4,
   "metadata": {},
   "outputs": [],
   "source": [
    "def pca(adata, use_reps=None, n_comps=10):\n",
    "    \n",
    "    \"\"\"Dimension reduction with PCA algorithm\"\"\"\n",
    "    \n",
    "    from sklearn.decomposition import PCA\n",
    "    from scipy.sparse.csc import csc_matrix\n",
    "    from scipy.sparse.csr import csr_matrix\n",
    "    pca = PCA(n_components=n_comps)\n",
    "    if use_reps is not None:\n",
    "       feat_pca = pca.fit_transform(adata.obsm[use_reps])\n",
    "    else: \n",
    "       if isinstance(adata.X, csc_matrix) or isinstance(adata.X, csr_matrix):\n",
    "          feat_pca = pca.fit_transform(adata.X.toarray()) \n",
    "       else:   \n",
    "          feat_pca = pca.fit_transform(adata.X)\n",
    "    \n",
    "    return feat_pca\n",
    "\n",
    "def clr_normalize_each_cell(adata, inplace=True):\n",
    "    \n",
    "    \"\"\"Normalize count vector for each cell, i.e. for each row of .X\"\"\"\n",
    "\n",
    "    import numpy as np\n",
    "    import scipy\n",
    "\n",
    "    def seurat_clr(x):\n",
    "        # TODO: support sparseness\n",
    "        s = np.sum(np.log1p(x[x > 0]))\n",
    "        exp = np.exp(s / len(x))\n",
    "        return np.log1p(x / exp)\n",
    "\n",
    "    if not inplace:\n",
    "        adata = adata.copy()\n",
    "    \n",
    "    # apply to dense or sparse matrix, along axis. returns dense matrix\n",
    "    adata.X = np.apply_along_axis(\n",
    "        seurat_clr, 1, (adata.X.A if scipy.sparse.issparse(adata.X) else np.array(adata.X))\n",
    "    )\n",
    "    return adata     "
   ]
  },
  {
   "cell_type": "code",
   "execution_count": 5,
   "metadata": {},
   "outputs": [
    {
     "name": "stdout",
     "output_type": "stream",
     "text": [
      "load configs\n"
     ]
    }
   ],
   "source": [
    "args = build_args()\n",
    "args = load_configs(args, \"config/configs.yml\")\n",
    "# set_random_seed(2024)\n",
    "device = torch.device(\"cuda:1\" if torch.cuda.is_available() else \"cpu\")"
   ]
  },
  {
   "cell_type": "code",
   "execution_count": 6,
   "metadata": {},
   "outputs": [],
   "source": [
    "import scanpy as sc\n",
    "adata_omics1=sc.read_h5ad('/home/hfzhang/data/空间转录组/E9.5_E1S1.MOSTA.h5ad')\n",
    "adata_omics1.var_names_make_unique()\n",
    "n_clusters=len(set(adata_omics1.obs['annotation']))"
   ]
  },
  {
   "cell_type": "code",
   "execution_count": 11,
   "metadata": {},
   "outputs": [
    {
     "data": {
      "text/plain": [
       "12"
      ]
     },
     "execution_count": 11,
     "metadata": {},
     "output_type": "execute_result"
    }
   ],
   "source": [
    "n_clusters"
   ]
  },
  {
   "cell_type": "code",
   "execution_count": 12,
   "metadata": {},
   "outputs": [
    {
     "name": "stderr",
     "output_type": "stream",
     "text": [
      "/home/hfzhang/software/anaconda3/envs/GraphST/lib/python3.8/site-packages/scanpy/preprocessing/_highly_variable_genes.py:64: UserWarning: `flavor='seurat_v3'` expects raw count data, but non-integers were found.\n",
      "  warnings.warn(\n"
     ]
    }
   ],
   "source": [
    "sc.pp.filter_genes(adata_omics1, min_cells=10)\n",
    "sc.pp.highly_variable_genes(adata_omics1, flavor=\"seurat_v3\", n_top_genes=3000)\n",
    "sc.pp.normalize_total(adata_omics1, target_sum=1e4)\n",
    "sc.pp.log1p(adata_omics1)\n",
    "sc.pp.scale(adata_omics1)\n",
    "\n",
    "adata_omics1 =  adata_omics1[:, adata_omics1.var['highly_variable']]"
   ]
  },
  {
   "cell_type": "code",
   "execution_count": 13,
   "metadata": {},
   "outputs": [
    {
     "name": "stderr",
     "output_type": "stream",
     "text": [
      "2025-03-15 10:20:15.298206: I tensorflow/core/platform/cpu_feature_guard.cc:193] This TensorFlow binary is optimized with oneAPI Deep Neural Network Library (oneDNN) to use the following CPU instructions in performance-critical operations:  AVX2 AVX512F AVX512_VNNI FMA\n",
      "To enable them in other operations, rebuild TensorFlow with the appropriate compiler flags.\n",
      "2025-03-15 10:20:15.585026: I tensorflow/core/util/port.cc:104] oneDNN custom operations are on. You may see slightly different numerical results due to floating-point round-off errors from different computation orders. To turn them off, set the environment variable `TF_ENABLE_ONEDNN_OPTS=0`.\n",
      "2025-03-15 10:20:19.331234: W tensorflow/compiler/xla/stream_executor/platform/default/dso_loader.cc:64] Could not load dynamic library 'libnvinfer.so.7'; dlerror: libnvinfer.so.7: cannot open shared object file: No such file or directory; LD_LIBRARY_PATH: /usr/local/lib:\n",
      "2025-03-15 10:20:19.331519: W tensorflow/compiler/xla/stream_executor/platform/default/dso_loader.cc:64] Could not load dynamic library 'libnvinfer_plugin.so.7'; dlerror: libnvinfer_plugin.so.7: cannot open shared object file: No such file or directory; LD_LIBRARY_PATH: /usr/local/lib:\n",
      "2025-03-15 10:20:19.331563: W tensorflow/compiler/tf2tensorrt/utils/py_utils.cc:38] TF-TRT Warning: Cannot dlopen some TensorRT libraries. If you would like to use Nvidia GPU with TensorRT, please make sure the missing libraries mentioned above are installed properly.\n"
     ]
    }
   ],
   "source": [
    "from utils.preprocess import *\n",
    "from utils.utils import *"
   ]
  },
  {
   "cell_type": "code",
   "execution_count": 14,
   "metadata": {},
   "outputs": [],
   "source": [
    "def create_adj(adata):\n",
    "    cell_position_omics1 = adata.obsm['spatial']\n",
    "    adj_omics1 = construct_graph_by_coordinate(cell_position_omics1, n_neighbors=3)\n",
    "    adata.uns['adj_spatial'] = adj_omics1\n",
    "    adj_spatial_omics1 = adata.uns['adj_spatial']\n",
    "    adj_spatial_omics1 = transform_adjacent_matrix(adj_spatial_omics1)\n",
    "    adj_spatial_omics1 = adj_spatial_omics1.toarray()\n",
    "    adj_spatial_omics1 = adj_spatial_omics1 + adj_spatial_omics1.T\n",
    "    adj_spatial_omics1 = np.where(adj_spatial_omics1>1, 1, adj_spatial_omics1)\n",
    "    adj = preprocess_graph(adj_spatial_omics1)\n",
    "    return adj"
   ]
  },
  {
   "cell_type": "code",
   "execution_count": 15,
   "metadata": {},
   "outputs": [],
   "source": [
    "label = adata_omics1.obs['annotation'].astype(str) #先全部转成string  \n",
    "label[pd.isna(label)] = \"nan\"  # 将缺失值替换为 \"NA\"，前提是你用了pandas\n",
    "# label=adata_omics1.obs['ground_truth'].values\n",
    "classes, label = np.unique(label, return_inverse=True)\n",
    "classes = classes.tolist()"
   ]
  },
  {
   "cell_type": "code",
   "execution_count": 16,
   "metadata": {},
   "outputs": [],
   "source": [
    "device='cuda:1'\n",
    "args.n_input=adata_omics1.n_vars\n",
    "# args.n_input1=adata_omics2.n_vars-1\n",
    "args.n_clusters=len(classes)\n",
    "args.n_clusters\n",
    "args.Type='Stereo-CITE-seq'\n",
    "args.n_clusters=len(classes)"
   ]
  },
  {
   "cell_type": "code",
   "execution_count": 54,
   "metadata": {},
   "outputs": [],
   "source": [
    "random_seed=2022\n",
    "args.random_seed=random_seed\n",
    "fix_seed(random_seed)"
   ]
  },
  {
   "cell_type": "code",
   "execution_count": 37,
   "metadata": {},
   "outputs": [],
   "source": [
    "args.tool='kmeans'\n",
    "args.sigma=0.2\n",
    "args.lr=0.001\n",
    "args.loss_n=0.01\n",
    "args.loss_a=0.1"
   ]
  },
  {
   "cell_type": "markdown",
   "metadata": {},
   "source": [
    "import numpy as np  \n",
    "\n",
    "# 假设 adata 是你的 AnnData 对象  \n",
    "# 将第二列（索引1）中的负值转换为正值  \n",
    "adata_omics1.obsm['spatial'][:, 1] = np.abs(adata_omics1.obsm['spatial'][:, 1])  "
   ]
  },
  {
   "cell_type": "code",
   "execution_count": 55,
   "metadata": {},
   "outputs": [
    {
     "name": "stdout",
     "output_type": "stream",
     "text": [
      "tool: kmeans\n",
      "  9 loss: 1.0967046022415161\n",
      "Epoch_  9 , nmi 0.3790 , ari 0.1951 , ami 0.3762 , homogeneity 0.3970 , completeness 0.3625 , v_measure 0.3790\n",
      " 19 loss: 1.0872442722320557\n",
      "Epoch_ 19 , nmi 0.4606 , ari 0.2630 , ami 0.4582 , homogeneity 0.4809 , completeness 0.4421 , v_measure 0.4606\n",
      " 29 loss: 1.072662353515625\n",
      "Epoch_ 29 , nmi 0.5005 , ari 0.2885 , ami 0.4982 , homogeneity 0.5144 , completeness 0.4874 , v_measure 0.5005\n",
      " 39 loss: 1.1394622325897217\n",
      "Epoch_ 39 , nmi 0.5288 , ari 0.3291 , ami 0.5266 , homogeneity 0.5412 , completeness 0.5170 , v_measure 0.5288\n",
      " 49 loss: 1.129167079925537\n",
      "Epoch_ 49 , nmi 0.5328 , ari 0.3152 , ami 0.5307 , homogeneity 0.5486 , completeness 0.5179 , v_measure 0.5328\n",
      " 59 loss: 1.121269941329956\n",
      "Epoch_ 59 , nmi 0.5205 , ari 0.3026 , ami 0.5183 , homogeneity 0.5359 , completeness 0.5060 , v_measure 0.5205\n",
      " 69 loss: 1.1144053936004639\n",
      "Epoch_ 69 , nmi 0.5140 , ari 0.2806 , ami 0.5118 , homogeneity 0.5298 , completeness 0.4992 , v_measure 0.5140\n",
      " 79 loss: 1.1083927154541016\n",
      "Epoch_ 79 , nmi 0.5331 , ari 0.3087 , ami 0.5309 , homogeneity 0.5448 , completeness 0.5218 , v_measure 0.5331\n",
      " 89 loss: 1.1036174297332764\n",
      "Epoch_ 89 , nmi 0.5494 , ari 0.3282 , ami 0.5472 , homogeneity 0.5600 , completeness 0.5391 , v_measure 0.5494\n",
      " 99 loss: 1.0997462272644043\n",
      "Epoch_ 99 , nmi 0.5547 , ari 0.3356 , ami 0.5526 , homogeneity 0.5686 , completeness 0.5415 , v_measure 0.5547\n",
      "109 loss: 1.0965375900268555\n",
      "Epoch_109 , nmi 0.5520 , ari 0.3404 , ami 0.5499 , homogeneity 0.5669 , completeness 0.5378 , v_measure 0.5520\n",
      "119 loss: 1.0938197374343872\n",
      "Epoch_119 , nmi 0.5521 , ari 0.3475 , ami 0.5500 , homogeneity 0.5669 , completeness 0.5381 , v_measure 0.5521\n",
      "129 loss: 1.091367244720459\n",
      "Epoch_129 , nmi 0.5762 , ari 0.3625 , ami 0.5742 , homogeneity 0.5905 , completeness 0.5625 , v_measure 0.5762\n",
      "139 loss: 1.0891387462615967\n",
      "Epoch_139 , nmi 0.5616 , ari 0.3571 , ami 0.5595 , homogeneity 0.5759 , completeness 0.5479 , v_measure 0.5616\n",
      "149 loss: 1.086928367614746\n",
      "Epoch_149 , nmi 0.5353 , ari 0.3286 , ami 0.5331 , homogeneity 0.5440 , completeness 0.5270 , v_measure 0.5353\n",
      "159 loss: 1.0846863985061646\n",
      "Epoch_159 , nmi 0.5490 , ari 0.3400 , ami 0.5469 , homogeneity 0.5605 , completeness 0.5380 , v_measure 0.5490\n",
      "169 loss: 1.0825620889663696\n",
      "Epoch_169 , nmi 0.5737 , ari 0.3660 , ami 0.5717 , homogeneity 0.5838 , completeness 0.5640 , v_measure 0.5737\n",
      "179 loss: 1.0804293155670166\n",
      "Epoch_179 , nmi 0.5737 , ari 0.3704 , ami 0.5717 , homogeneity 0.5876 , completeness 0.5604 , v_measure 0.5737\n",
      "189 loss: 1.078190565109253\n",
      "Epoch_189 , nmi 0.5793 , ari 0.3768 , ami 0.5773 , homogeneity 0.5896 , completeness 0.5694 , v_measure 0.5793\n",
      "199 loss: 1.0759679079055786\n",
      "Epoch_199 , nmi 0.5817 , ari 0.3773 , ami 0.5797 , homogeneity 0.5918 , completeness 0.5720 , v_measure 0.5817\n",
      "209 loss: 1.073961853981018\n",
      "Epoch_209 , nmi 0.5834 , ari 0.3789 , ami 0.5815 , homogeneity 0.5928 , completeness 0.5744 , v_measure 0.5834\n",
      "219 loss: 1.071699857711792\n",
      "Epoch_219 , nmi 0.5615 , ari 0.3388 , ami 0.5594 , homogeneity 0.5726 , completeness 0.5509 , v_measure 0.5615\n",
      "229 loss: 1.0696711540222168\n",
      "Epoch_229 , nmi 0.5838 , ari 0.3812 , ami 0.5819 , homogeneity 0.5933 , completeness 0.5747 , v_measure 0.5838\n",
      "239 loss: 1.0676219463348389\n",
      "Epoch_239 , nmi 0.5825 , ari 0.3754 , ami 0.5806 , homogeneity 0.5932 , completeness 0.5723 , v_measure 0.5825\n",
      "249 loss: 1.0659857988357544\n",
      "Epoch_249 , nmi 0.5845 , ari 0.3812 , ami 0.5825 , homogeneity 0.5939 , completeness 0.5754 , v_measure 0.5845\n",
      "259 loss: 1.0638835430145264\n",
      "Epoch_259 , nmi 0.5961 , ari 0.3876 , ami 0.5942 , homogeneity 0.6152 , completeness 0.5782 , v_measure 0.5961\n",
      "269 loss: 1.0620001554489136\n",
      "Epoch_269 , nmi 0.6129 , ari 0.4462 , ami 0.6110 , homogeneity 0.6202 , completeness 0.6057 , v_measure 0.6129\n",
      "279 loss: 1.0603430271148682\n",
      "Epoch_279 , nmi 0.5858 , ari 0.3815 , ami 0.5839 , homogeneity 0.5944 , completeness 0.5775 , v_measure 0.5858\n",
      "289 loss: 1.0586190223693848\n",
      "Epoch_289 , nmi 0.5894 , ari 0.3835 , ami 0.5875 , homogeneity 0.5996 , completeness 0.5795 , v_measure 0.5894\n",
      "299 loss: 1.0570213794708252\n",
      "Epoch_299 , nmi 0.5838 , ari 0.3787 , ami 0.5818 , homogeneity 0.5923 , completeness 0.5755 , v_measure 0.5838\n",
      "xunlian\n",
      "name: acm\n",
      "NMI : 0.6129\n",
      "ARI : 0.4462\n",
      "AMI  : 0.6110\n",
      "Epoch_  0 , nmi 0.5847 , ari 0.3798 , ami 0.5827 , homogeneity 0.5931 , completeness 0.5765 , v_measure 0.5847\n",
      "聚类方法为kmeans\n",
      "test\n",
      "name: acm\n",
      "NMI : 0.5847\n",
      "ARI : 0.3798\n",
      "AMI  : 0.5827\n"
     ]
    }
   ],
   "source": [
    "args.n_clusters1=len(set(label))\n",
    "args.n_clusters2=len(set(label))\n",
    "adj_train=create_adj(adata_omics1)\n",
    "adj_train = adj_train.to(device)\n",
    "features_omics1_train = torch.FloatTensor(adata_omics1.X.copy()).to(device)\n",
    "model = creat_model('spamgcn', args).to(device)\n",
    "model=Train(300, model,adata_omics1, features_omics1_train, adj_train, label, device, args)\n",
    "nmi, ari, ami, homogeneity, completeness, v_measure=Test(model,adata_omics1,features_omics1_train,adj_train,label,device,args,'kmeans')"
   ]
  }
 ],
 "metadata": {
  "kernelspec": {
   "display_name": "GraphST",
   "language": "python",
   "name": "python3"
  },
  "language_info": {
   "codemirror_mode": {
    "name": "ipython",
    "version": 3
   },
   "file_extension": ".py",
   "mimetype": "text/x-python",
   "name": "python",
   "nbconvert_exporter": "python",
   "pygments_lexer": "ipython3",
   "version": "3.8.15"
  }
 },
 "nbformat": 4,
 "nbformat_minor": 2
}
