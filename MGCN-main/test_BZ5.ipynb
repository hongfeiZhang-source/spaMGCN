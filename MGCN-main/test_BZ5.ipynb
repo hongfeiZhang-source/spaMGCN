{
 "cells": [
  {
   "cell_type": "code",
   "execution_count": 1,
   "metadata": {},
   "outputs": [],
   "source": [
    "from utils.misc import *\n",
    "from train_single.train import Train,Test\n",
    "from datasets.data_utils import load_dataset\n",
    "from model_single.Creat_model import creat_model"
   ]
  },
  {
   "cell_type": "code",
   "execution_count": 2,
   "metadata": {},
   "outputs": [],
   "source": [
    "from torch.backends import cudnn\n",
    "def fix_seed(seed):\n",
    "    #seed = 2023\n",
    "    os.environ['PYTHONHASHSEED'] = str(seed)\n",
    "    random.seed(seed)\n",
    "    np.random.seed(seed)\n",
    "    torch.manual_seed(seed)\n",
    "    torch.cuda.manual_seed(seed)\n",
    "    torch.cuda.manual_seed_all(seed)\n",
    "    cudnn.deterministic = True\n",
    "    cudnn.benchmark = False\n",
    "    \n",
    "    os.environ['PYTHONHASHSEED'] = str(seed)\n",
    "    os.environ['CUBLAS_WORKSPACE_CONFIG'] = ':4096:8'   "
   ]
  },
  {
   "cell_type": "code",
   "execution_count": 3,
   "metadata": {},
   "outputs": [],
   "source": [
    "import networkx\n",
    "import torch\n",
    "import scipy.sparse as sp\n",
    "import numpy as np\n",
    "import os\n",
    "import random\n",
    "from munkres import Munkres\n",
    "from sklearn import metrics\n",
    "from sklearn.metrics import adjusted_rand_score as ari_score\n",
    "from sklearn.metrics.cluster import normalized_mutual_info_score as nmi_score\n",
    "from sklearn.decomposition import PCA\n",
    "from torch.utils.data import Dataset\n",
    "import argparse\n",
    "import yaml\n",
    "from torch_geometric.utils.convert import to_networkx\n",
    "import pynvml\n",
    "\n",
    "def build_args():\n",
    "    \n",
    "    parser = argparse.ArgumentParser(formatter_class=argparse.ArgumentDefaultsHelpFormatter)\n",
    "    parser.add_argument('--dataset', type=str, default=\"acm\")\n",
    "    parser.add_argument('--seed', type=int, default=20)\n",
    "    parser.add_argument('--cuda', type=bool, default=True)\n",
    "    parser.add_argument('--n_input', type=int, default=None)\n",
    "    parser.add_argument('--n_z', type=int, default=None)\n",
    "    parser.add_argument('--freedom_degree', type=float, default=1.0)\n",
    "    parser.add_argument('--epoch', type=int, default=None)\n",
    "    parser.add_argument('--shuffle', type=bool, default=True)\n",
    "    parser.add_argument('--sigma', type=float, default=None)\n",
    "    parser.add_argument('--loss_n', type=float, default=None)\n",
    "    parser.add_argument('--loss_w', type=float, default=None)\n",
    "    parser.add_argument('--loss_s', type=float, default=None)\n",
    "    parser.add_argument('--loss_a', type=float, default=None)\n",
    "    parser.add_argument('--lr', type=float, default=1e-4)\n",
    "    parser.add_argument('--acc', type=float, default=-1)\n",
    "    parser.add_argument('--f1', type=float, default=-1)\n",
    "    args = parser.parse_args([])\n",
    "    return args"
   ]
  },
  {
   "cell_type": "code",
   "execution_count": 4,
   "metadata": {},
   "outputs": [],
   "source": [
    "def pca(adata, use_reps=None, n_comps=10):\n",
    "    \n",
    "    \"\"\"Dimension reduction with PCA algorithm\"\"\"\n",
    "    \n",
    "    from sklearn.decomposition import PCA\n",
    "    from scipy.sparse.csc import csc_matrix\n",
    "    from scipy.sparse.csr import csr_matrix\n",
    "    pca = PCA(n_components=n_comps)\n",
    "    if use_reps is not None:\n",
    "       feat_pca = pca.fit_transform(adata.obsm[use_reps])\n",
    "    else: \n",
    "       if isinstance(adata.X, csc_matrix) or isinstance(adata.X, csr_matrix):\n",
    "          feat_pca = pca.fit_transform(adata.X.toarray()) \n",
    "       else:   \n",
    "          feat_pca = pca.fit_transform(adata.X)\n",
    "    \n",
    "    return feat_pca\n",
    "\n",
    "def clr_normalize_each_cell(adata, inplace=True):\n",
    "    \n",
    "    \"\"\"Normalize count vector for each cell, i.e. for each row of .X\"\"\"\n",
    "\n",
    "    import numpy as np\n",
    "    import scipy\n",
    "\n",
    "    def seurat_clr(x):\n",
    "        # TODO: support sparseness\n",
    "        s = np.sum(np.log1p(x[x > 0]))\n",
    "        exp = np.exp(s / len(x))\n",
    "        return np.log1p(x / exp)\n",
    "\n",
    "    if not inplace:\n",
    "        adata = adata.copy()\n",
    "    \n",
    "    # apply to dense or sparse matrix, along axis. returns dense matrix\n",
    "    adata.X = np.apply_along_axis(\n",
    "        seurat_clr, 1, (adata.X.A if scipy.sparse.issparse(adata.X) else np.array(adata.X))\n",
    "    )\n",
    "    return adata     "
   ]
  },
  {
   "cell_type": "code",
   "execution_count": 5,
   "metadata": {},
   "outputs": [
    {
     "name": "stdout",
     "output_type": "stream",
     "text": [
      "load configs\n"
     ]
    }
   ],
   "source": [
    "args = build_args()\n",
    "args = load_configs(args, \"config/configs.yml\")\n",
    "# set_random_seed(2024)\n",
    "device = torch.device(\"cuda:1\" if torch.cuda.is_available() else \"cpu\")"
   ]
  },
  {
   "cell_type": "code",
   "execution_count": 6,
   "metadata": {},
   "outputs": [],
   "source": [
    "import scanpy as sc\n",
    "adata_omics1=sc.read_h5ad(\"/home/hfzhang/data/空间转录组/data1/BZ5/raw/adata.h5ad\")\n",
    "adata_omics1.obsm['spatial']=adata_omics1.obsm['spatial'].astype(float)"
   ]
  },
  {
   "cell_type": "code",
   "execution_count": 7,
   "metadata": {},
   "outputs": [
    {
     "data": {
      "text/plain": [
       "AnnData object with n_obs × n_vars = 1049 × 166\n",
       "    obs: 'celltype', 'cluster'\n",
       "    obsm: 'spatial'"
      ]
     },
     "execution_count": 7,
     "metadata": {},
     "output_type": "execute_result"
    }
   ],
   "source": [
    "adata_omics1"
   ]
  },
  {
   "cell_type": "code",
   "execution_count": 8,
   "metadata": {},
   "outputs": [
    {
     "name": "stderr",
     "output_type": "stream",
     "text": [
      "/tmp/ipykernel_52213/529664883.py:6: DeprecationWarning: Please use `csc_matrix` from the `scipy.sparse` namespace, the `scipy.sparse.csc` namespace is deprecated.\n",
      "  from scipy.sparse.csc import csc_matrix\n",
      "/tmp/ipykernel_52213/529664883.py:7: DeprecationWarning: Please use `csr_matrix` from the `scipy.sparse` namespace, the `scipy.sparse.csr` namespace is deprecated.\n",
      "  from scipy.sparse.csr import csr_matrix\n"
     ]
    }
   ],
   "source": [
    "adata_omics1 = clr_normalize_each_cell(adata_omics1)\n",
    "sc.pp.scale(adata_omics1)\n",
    "adata_omics1.obsm['feat'] = pca(adata_omics1, n_comps=adata_omics1.n_vars-1)"
   ]
  },
  {
   "cell_type": "code",
   "execution_count": 9,
   "metadata": {},
   "outputs": [
    {
     "name": "stderr",
     "output_type": "stream",
     "text": [
      "2025-03-21 19:32:33.723495: I tensorflow/core/platform/cpu_feature_guard.cc:193] This TensorFlow binary is optimized with oneAPI Deep Neural Network Library (oneDNN) to use the following CPU instructions in performance-critical operations:  AVX2 AVX512F AVX512_VNNI FMA\n",
      "To enable them in other operations, rebuild TensorFlow with the appropriate compiler flags.\n",
      "2025-03-21 19:32:33.927816: I tensorflow/core/util/port.cc:104] oneDNN custom operations are on. You may see slightly different numerical results due to floating-point round-off errors from different computation orders. To turn them off, set the environment variable `TF_ENABLE_ONEDNN_OPTS=0`.\n",
      "2025-03-21 19:32:34.670350: W tensorflow/compiler/xla/stream_executor/platform/default/dso_loader.cc:64] Could not load dynamic library 'libnvinfer.so.7'; dlerror: libnvinfer.so.7: cannot open shared object file: No such file or directory; LD_LIBRARY_PATH: /usr/local/lib:\n",
      "2025-03-21 19:32:34.670448: W tensorflow/compiler/xla/stream_executor/platform/default/dso_loader.cc:64] Could not load dynamic library 'libnvinfer_plugin.so.7'; dlerror: libnvinfer_plugin.so.7: cannot open shared object file: No such file or directory; LD_LIBRARY_PATH: /usr/local/lib:\n",
      "2025-03-21 19:32:34.670457: W tensorflow/compiler/tf2tensorrt/utils/py_utils.cc:38] TF-TRT Warning: Cannot dlopen some TensorRT libraries. If you would like to use Nvidia GPU with TensorRT, please make sure the missing libraries mentioned above are installed properly.\n"
     ]
    }
   ],
   "source": [
    "from utils.preprocess import *\n",
    "from utils.utils import *"
   ]
  },
  {
   "cell_type": "code",
   "execution_count": 10,
   "metadata": {},
   "outputs": [],
   "source": [
    "import numpy as np\n",
    "from scipy.sparse import coo_matrix\n",
    "\n",
    "def transform_adjacent_matrix(adjacent):\n",
    "    n_spot = max(adjacent['x'].max(), adjacent['y'].max()) + 1\n",
    "    \n",
    "    # Ensure no indices exceed the matrix dimensions\n",
    "    mask = (adjacent['x'] < n_spot) & (adjacent['y'] < n_spot)\n",
    "    adjacent['x'] = adjacent['x'][mask]\n",
    "    adjacent['y'] = adjacent['y'][mask]\n",
    "    adjacent['value'] = adjacent['value'][mask]\n",
    "    \n",
    "    adj = coo_matrix((adjacent['value'], (adjacent['x'], adjacent['y'])), shape=(n_spot, n_spot))\n",
    "    return adj"
   ]
  },
  {
   "cell_type": "code",
   "execution_count": 11,
   "metadata": {},
   "outputs": [],
   "source": [
    "def create_adj(adata):\n",
    "    cell_position_omics1 = adata.obsm['spatial']\n",
    "    adj_omics1 = construct_graph_by_coordinate(cell_position_omics1, n_neighbors=3)\n",
    "    adata.uns['adj_spatial'] = adj_omics1\n",
    "    adj_spatial_omics1 = adata.uns['adj_spatial']\n",
    "    adj_spatial_omics1 = transform_adjacent_matrix(adj_spatial_omics1)\n",
    "    adj_spatial_omics1 = adj_spatial_omics1.toarray()\n",
    "    adj_spatial_omics1 = adj_spatial_omics1 + adj_spatial_omics1.T\n",
    "    adj_spatial_omics1 = np.where(adj_spatial_omics1>1, 1, adj_spatial_omics1)\n",
    "    adj = preprocess_graph(adj_spatial_omics1)\n",
    "    return adj"
   ]
  },
  {
   "cell_type": "code",
   "execution_count": 12,
   "metadata": {},
   "outputs": [],
   "source": [
    "label = adata_omics1.obs['cluster'].astype(str) #先全部转成string  \n",
    "label[pd.isna(label)] = \"nan\"  # 将缺失值替换为 \"NA\"，前提是你用了pandas\n",
    "# label=adata_omics1.obs['ground_truth'].values\n",
    "classes, label = np.unique(label, return_inverse=True)\n",
    "classes = classes.tolist()"
   ]
  },
  {
   "cell_type": "code",
   "execution_count": 13,
   "metadata": {},
   "outputs": [],
   "source": [
    "device='cuda:0'\n",
    "args.n_input=adata_omics1.n_vars\n",
    "# args.n_input1=adata_omics2.n_vars-1\n",
    "args.n_clusters=len(classes)\n",
    "args.n_clusters\n",
    "args.Type='Stereo-CITE-seq'\n",
    "args.n_clusters=len(classes)"
   ]
  },
  {
   "cell_type": "code",
   "execution_count": 14,
   "metadata": {},
   "outputs": [],
   "source": [
    "random_seed=2021\n",
    "args.random_seed=random_seed\n",
    "fix_seed(random_seed)"
   ]
  },
  {
   "cell_type": "code",
   "execution_count": 15,
   "metadata": {},
   "outputs": [],
   "source": [
    "args.tool='kmeans'\n",
    "args.sigma=0.5\n",
    "args.lr=0.01\n",
    "args.loss_n=0.1\n",
    "args.loss_a=0.1"
   ]
  },
  {
   "cell_type": "code",
   "execution_count": 16,
   "metadata": {},
   "outputs": [
    {
     "name": "stdout",
     "output_type": "stream",
     "text": [
      "tool: kmeans\n",
      "  9 loss: 1.055635690689087\n",
      "Epoch_  9 , nmi 0.2945 , ari 0.2481 , ami 0.2920 , homogeneity 0.2962 , completeness 0.2927 , v_measure 0.2945\n",
      " 19 loss: 1.5789315700531006\n",
      "Epoch_ 19 , nmi 0.3706 , ari 0.3173 , ami 0.3685 , homogeneity 0.3938 , completeness 0.3500 , v_measure 0.3706\n",
      " 29 loss: 1.5231149196624756\n",
      "Epoch_ 29 , nmi 0.4869 , ari 0.4235 , ami 0.4852 , homogeneity 0.5174 , completeness 0.4599 , v_measure 0.4869\n",
      " 39 loss: 1.4724164009094238\n",
      "Epoch_ 39 , nmi 0.5255 , ari 0.4629 , ami 0.5240 , homogeneity 0.5579 , completeness 0.4967 , v_measure 0.5255\n",
      " 49 loss: 1.4330112934112549\n",
      "Epoch_ 49 , nmi 0.5635 , ari 0.5615 , ami 0.5621 , homogeneity 0.5940 , completeness 0.5360 , v_measure 0.5635\n",
      " 59 loss: 1.3952081203460693\n",
      "Epoch_ 59 , nmi 0.5608 , ari 0.5530 , ami 0.5593 , homogeneity 0.5887 , completeness 0.5354 , v_measure 0.5608\n",
      " 69 loss: 1.3558533191680908\n",
      "Epoch_ 69 , nmi 0.5911 , ari 0.5755 , ami 0.5897 , homogeneity 0.6203 , completeness 0.5645 , v_measure 0.5911\n",
      " 79 loss: 1.3305412530899048\n",
      "Epoch_ 79 , nmi 0.5339 , ari 0.4887 , ami 0.5324 , homogeneity 0.5626 , completeness 0.5080 , v_measure 0.5339\n",
      " 89 loss: 1.294975757598877\n",
      "Epoch_ 89 , nmi 0.6117 , ari 0.6103 , ami 0.6104 , homogeneity 0.6419 , completeness 0.5843 , v_measure 0.6117\n",
      " 99 loss: 1.262291669845581\n",
      "Epoch_ 99 , nmi 0.6089 , ari 0.6069 , ami 0.6076 , homogeneity 0.6392 , completeness 0.5814 , v_measure 0.6089\n",
      "xunlian\n",
      "name: acm\n",
      "NMI : 0.6117\n",
      "ARI : 0.6103\n",
      "AMI  : 0.6104\n",
      "Searching resolution using binary search...\n",
      "resolution=3.5005, cluster number=32\n",
      "resolution=1.7508, cluster number=17\n",
      "resolution=0.8759, cluster number=9\n",
      "resolution=0.4384, cluster number=5\n",
      "resolution=0.2197, cluster number=3\n",
      "resolution=0.3291, cluster number=4\n",
      "Epoch_  0 , nmi 0.6907 , ari 0.7494 , ami 0.6897 , homogeneity 0.6987 , completeness 0.6830 , v_measure 0.6907\n",
      "聚类方法为leiden\n",
      "test\n",
      "name: acm\n",
      "NMI : 0.6907\n",
      "ARI : 0.7494\n",
      "AMI  : 0.6897\n"
     ]
    }
   ],
   "source": [
    "args.n_clusters1=len(set(label))\n",
    "args.n_clusters2=len(set(label))\n",
    "adj_train=create_adj(adata_omics1)\n",
    "adj_train = adj_train.to(device)\n",
    "features_omics1_train = torch.FloatTensor(adata_omics1.X.copy()).to(device)\n",
    "model = creat_model('spamgcn', args).to(device)\n",
    "model=Train(100, model,adata_omics1, features_omics1_train, adj_train, label, device, args)\n",
    "nmi, ari, ami, homogeneity, completeness, v_measure=Test(model,adata_omics1,features_omics1_train,adj_train,label,device,args,'leiden')\n"
   ]
  }
 ],
 "metadata": {
  "kernelspec": {
   "display_name": "GraphST",
   "language": "python",
   "name": "python3"
  },
  "language_info": {
   "codemirror_mode": {
    "name": "ipython",
    "version": 3
   },
   "file_extension": ".py",
   "mimetype": "text/x-python",
   "name": "python",
   "nbconvert_exporter": "python",
   "pygments_lexer": "ipython3",
   "version": "3.8.15"
  }
 },
 "nbformat": 4,
 "nbformat_minor": 2
}
