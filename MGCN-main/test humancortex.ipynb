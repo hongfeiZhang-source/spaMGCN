{
 "cells": [
  {
   "cell_type": "code",
   "execution_count": 1,
   "metadata": {},
   "outputs": [],
   "source": [
    "from utils.misc import *\n",
    "from train_single.train import Train,Test\n",
    "from datasets.data_utils import load_dataset\n",
    "from model_single.Creat_model import creat_model"
   ]
  },
  {
   "cell_type": "code",
   "execution_count": 2,
   "metadata": {},
   "outputs": [],
   "source": [
    "from torch.backends import cudnn\n",
    "def fix_seed(seed):\n",
    "    #seed = 2023\n",
    "    os.environ['PYTHONHASHSEED'] = str(seed)\n",
    "    random.seed(seed)\n",
    "    np.random.seed(seed)\n",
    "    torch.manual_seed(seed)\n",
    "    torch.cuda.manual_seed(seed)\n",
    "    torch.cuda.manual_seed_all(seed)\n",
    "    cudnn.deterministic = True\n",
    "    cudnn.benchmark = False\n",
    "    \n",
    "    os.environ['PYTHONHASHSEED'] = str(seed)\n",
    "    os.environ['CUBLAS_WORKSPACE_CONFIG'] = ':4096:8'   "
   ]
  },
  {
   "cell_type": "code",
   "execution_count": 3,
   "metadata": {},
   "outputs": [],
   "source": [
    "import networkx\n",
    "import torch\n",
    "import scipy.sparse as sp\n",
    "import numpy as np\n",
    "import os\n",
    "import random\n",
    "from munkres import Munkres\n",
    "from sklearn import metrics\n",
    "from sklearn.metrics import adjusted_rand_score as ari_score\n",
    "from sklearn.metrics.cluster import normalized_mutual_info_score as nmi_score\n",
    "from sklearn.decomposition import PCA\n",
    "from torch.utils.data import Dataset\n",
    "import argparse\n",
    "import yaml\n",
    "from torch_geometric.utils.convert import to_networkx\n",
    "import pynvml\n",
    "\n",
    "def build_args():\n",
    "    \n",
    "    parser = argparse.ArgumentParser(formatter_class=argparse.ArgumentDefaultsHelpFormatter)\n",
    "    parser.add_argument('--dataset', type=str, default=\"acm\")\n",
    "    parser.add_argument('--seed', type=int, default=20)\n",
    "    parser.add_argument('--cuda', type=bool, default=True)\n",
    "    parser.add_argument('--n_input', type=int, default=None)\n",
    "    parser.add_argument('--n_z', type=int, default=None)\n",
    "    parser.add_argument('--freedom_degree', type=float, default=1.0)\n",
    "    parser.add_argument('--epoch', type=int, default=None)\n",
    "    parser.add_argument('--shuffle', type=bool, default=True)\n",
    "    parser.add_argument('--sigma', type=float, default=None)\n",
    "    parser.add_argument('--loss_n', type=float, default=None)\n",
    "    parser.add_argument('--loss_w', type=float, default=None)\n",
    "    parser.add_argument('--loss_s', type=float, default=None)\n",
    "    parser.add_argument('--loss_a', type=float, default=None)\n",
    "    parser.add_argument('--lr', type=float, default=1e-4)\n",
    "    parser.add_argument('--acc', type=float, default=-1)\n",
    "    parser.add_argument('--f1', type=float, default=-1)\n",
    "    args = parser.parse_args([])\n",
    "    return args"
   ]
  },
  {
   "cell_type": "code",
   "execution_count": 4,
   "metadata": {},
   "outputs": [],
   "source": [
    "def pca(adata, use_reps=None, n_comps=10):\n",
    "    \n",
    "    \"\"\"Dimension reduction with PCA algorithm\"\"\"\n",
    "    \n",
    "    from sklearn.decomposition import PCA\n",
    "    from scipy.sparse.csc import csc_matrix\n",
    "    from scipy.sparse.csr import csr_matrix\n",
    "    pca = PCA(n_components=n_comps)\n",
    "    if use_reps is not None:\n",
    "       feat_pca = pca.fit_transform(adata.obsm[use_reps])\n",
    "    else: \n",
    "       if isinstance(adata.X, csc_matrix) or isinstance(adata.X, csr_matrix):\n",
    "          feat_pca = pca.fit_transform(adata.X.toarray()) \n",
    "       else:   \n",
    "          feat_pca = pca.fit_transform(adata.X)\n",
    "    \n",
    "    return feat_pca\n",
    "\n",
    "def clr_normalize_each_cell(adata, inplace=True):\n",
    "    \n",
    "    \"\"\"Normalize count vector for each cell, i.e. for each row of .X\"\"\"\n",
    "\n",
    "    import numpy as np\n",
    "    import scipy\n",
    "\n",
    "    def seurat_clr(x):\n",
    "        # TODO: support sparseness\n",
    "        s = np.sum(np.log1p(x[x > 0]))\n",
    "        exp = np.exp(s / len(x))\n",
    "        return np.log1p(x / exp)\n",
    "\n",
    "    if not inplace:\n",
    "        adata = adata.copy()\n",
    "    \n",
    "    # apply to dense or sparse matrix, along axis. returns dense matrix\n",
    "    adata.X = np.apply_along_axis(\n",
    "        seurat_clr, 1, (adata.X.A if scipy.sparse.issparse(adata.X) else np.array(adata.X))\n",
    "    )\n",
    "    return adata     "
   ]
  },
  {
   "cell_type": "code",
   "execution_count": 5,
   "metadata": {},
   "outputs": [
    {
     "name": "stdout",
     "output_type": "stream",
     "text": [
      "load configs\n"
     ]
    }
   ],
   "source": [
    "args = build_args()\n",
    "args = load_configs(args, \"config/configs.yml\")\n",
    "# set_random_seed(2024)\n",
    "device = torch.device(\"cuda\" if torch.cuda.is_available() else \"cpu\")"
   ]
  },
  {
   "cell_type": "code",
   "execution_count": 6,
   "metadata": {},
   "outputs": [],
   "source": [
    "import scanpy as sc\n",
    "adata_omics1 = sc.read_h5ad('/home/hfzhang/data/空间转录组/单细胞分辨率空间转录组数据/humancortex.h5ad')\n",
    "adata_omics1.var_names_make_unique()"
   ]
  },
  {
   "cell_type": "code",
   "execution_count": 7,
   "metadata": {},
   "outputs": [
    {
     "name": "stderr",
     "output_type": "stream",
     "text": [
      "/home/hfzhang/software/anaconda3/envs/GraphST/lib/python3.8/site-packages/scanpy/preprocessing/_highly_variable_genes.py:64: UserWarning: `flavor='seurat_v3'` expects raw count data, but non-integers were found.\n",
      "  warnings.warn(\n"
     ]
    }
   ],
   "source": [
    "\n",
    "# RNA\n",
    "sc.pp.filter_genes(adata_omics1, min_cells=10)\n",
    "sc.pp.highly_variable_genes(adata_omics1, flavor=\"seurat_v3\", n_top_genes=3000)\n",
    "sc.pp.normalize_total(adata_omics1, target_sum=1e4)\n",
    "sc.pp.log1p(adata_omics1)\n",
    "sc.pp.scale(adata_omics1)\n",
    "\n",
    "adata_omics1 =  adata_omics1[:, adata_omics1.var['highly_variable']]\n",
    "# adata_omics1.obsm['feat'] = pca(adata_omics1, n_comps=200)\n",
    "# # Protein\n",
    "# adata_omics2 = clr_normalize_each_cell(adata_omics2)\n",
    "# sc.pp.scale(adata_omics2)\n",
    "# adata_omics2.obsm['feat'] = pca(adata_omics2, n_comps=adata_omics2.n_vars-1)"
   ]
  },
  {
   "cell_type": "code",
   "execution_count": 8,
   "metadata": {},
   "outputs": [
    {
     "name": "stderr",
     "output_type": "stream",
     "text": [
      "2025-03-20 17:28:56.507310: I tensorflow/core/platform/cpu_feature_guard.cc:193] This TensorFlow binary is optimized with oneAPI Deep Neural Network Library (oneDNN) to use the following CPU instructions in performance-critical operations:  AVX2 AVX512F AVX512_VNNI FMA\n",
      "To enable them in other operations, rebuild TensorFlow with the appropriate compiler flags.\n",
      "2025-03-20 17:28:56.673361: I tensorflow/core/util/port.cc:104] oneDNN custom operations are on. You may see slightly different numerical results due to floating-point round-off errors from different computation orders. To turn them off, set the environment variable `TF_ENABLE_ONEDNN_OPTS=0`.\n",
      "2025-03-20 17:28:57.306607: W tensorflow/compiler/xla/stream_executor/platform/default/dso_loader.cc:64] Could not load dynamic library 'libnvinfer.so.7'; dlerror: libnvinfer.so.7: cannot open shared object file: No such file or directory; LD_LIBRARY_PATH: /usr/local/lib:\n",
      "2025-03-20 17:28:57.306702: W tensorflow/compiler/xla/stream_executor/platform/default/dso_loader.cc:64] Could not load dynamic library 'libnvinfer_plugin.so.7'; dlerror: libnvinfer_plugin.so.7: cannot open shared object file: No such file or directory; LD_LIBRARY_PATH: /usr/local/lib:\n",
      "2025-03-20 17:28:57.306711: W tensorflow/compiler/tf2tensorrt/utils/py_utils.cc:38] TF-TRT Warning: Cannot dlopen some TensorRT libraries. If you would like to use Nvidia GPU with TensorRT, please make sure the missing libraries mentioned above are installed properly.\n"
     ]
    }
   ],
   "source": [
    "from utils.preprocess import *\n",
    "from utils.utils import *"
   ]
  },
  {
   "cell_type": "code",
   "execution_count": 9,
   "metadata": {},
   "outputs": [],
   "source": [
    "def create_adj(adata):\n",
    "    cell_position_omics1 = adata.obsm['spatial']\n",
    "    adj_omics1 = construct_graph_by_coordinate(cell_position_omics1, n_neighbors=3)\n",
    "    adata.uns['adj_spatial'] = adj_omics1\n",
    "    adj_spatial_omics1 = adata.uns['adj_spatial']\n",
    "    adj_spatial_omics1 = transform_adjacent_matrix(adj_spatial_omics1)\n",
    "    adj_spatial_omics1 = adj_spatial_omics1.toarray()\n",
    "    adj_spatial_omics1 = adj_spatial_omics1 + adj_spatial_omics1.T\n",
    "    adj_spatial_omics1 = np.where(adj_spatial_omics1>1, 1, adj_spatial_omics1)\n",
    "    adj = preprocess_graph(adj_spatial_omics1)\n",
    "    return adj"
   ]
  },
  {
   "cell_type": "code",
   "execution_count": 10,
   "metadata": {},
   "outputs": [],
   "source": [
    "label = adata_omics1.obs['cell_type'].astype(str) #先全部转成string  \n",
    "label[pd.isna(label)] = \"nan\"  # 将缺失值替换为 \"NA\"，前提是你用了pandas\n",
    "# label=adata_omics1.obs['ground_truth'].values\n",
    "classes, label = np.unique(label, return_inverse=True)\n",
    "classes = classes.tolist()"
   ]
  },
  {
   "cell_type": "code",
   "execution_count": 11,
   "metadata": {},
   "outputs": [],
   "source": [
    "args.n_input=3000\n",
    "# args.n_input1=adata_omics2.n_vars-1\n",
    "args.n_clusters1=len(classes)\n",
    "args.n_clusters2=len(classes)\n",
    "args.n_clusters\n",
    "args.Type='10x'\n",
    "args.n_clusters=len(classes)"
   ]
  },
  {
   "cell_type": "code",
   "execution_count": 35,
   "metadata": {},
   "outputs": [],
   "source": [
    "random_seed=2020\n",
    "args.random_seed=random_seed\n",
    "fix_seed(random_seed)"
   ]
  },
  {
   "cell_type": "code",
   "execution_count": 31,
   "metadata": {},
   "outputs": [],
   "source": [
    "args.loss_n=0.01\n",
    "args.loss_a=0.01\n",
    "args.lr=0.01\n",
    "args.sigma=0.4"
   ]
  },
  {
   "cell_type": "code",
   "execution_count": 28,
   "metadata": {},
   "outputs": [],
   "source": [
    "# args.lr=0.001"
   ]
  },
  {
   "cell_type": "code",
   "execution_count": 16,
   "metadata": {},
   "outputs": [],
   "source": [
    "args.tool='kmeans'"
   ]
  },
  {
   "cell_type": "code",
   "execution_count": 36,
   "metadata": {},
   "outputs": [
    {
     "name": "stdout",
     "output_type": "stream",
     "text": [
      "tool: kmeans\n",
      "  9 loss: 1.1626474857330322\n",
      "Epoch_  9 , nmi 0.7508 , ari 0.7376 , ami 0.7501 , homogeneity 0.7339 , completeness 0.7685 , v_measure 0.7508\n",
      " 19 loss: 1.144977331161499\n",
      "Epoch_ 19 , nmi 0.7172 , ari 0.6024 , ami 0.7164 , homogeneity 0.7065 , completeness 0.7283 , v_measure 0.7172\n",
      " 29 loss: 1.0304423570632935\n",
      "Epoch_ 29 , nmi 0.7443 , ari 0.6184 , ami 0.7436 , homogeneity 0.7629 , completeness 0.7265 , v_measure 0.7443\n",
      " 39 loss: 1.0228362083435059\n",
      "Epoch_ 39 , nmi 0.7530 , ari 0.6214 , ami 0.7523 , homogeneity 0.7672 , completeness 0.7393 , v_measure 0.7530\n",
      " 49 loss: 0.995449423789978\n",
      "Epoch_ 49 , nmi 0.7820 , ari 0.6518 , ami 0.7814 , homogeneity 0.7908 , completeness 0.7733 , v_measure 0.7820\n",
      " 59 loss: 0.9858400225639343\n",
      "Epoch_ 59 , nmi 0.7794 , ari 0.6311 , ami 0.7788 , homogeneity 0.7891 , completeness 0.7699 , v_measure 0.7794\n",
      " 69 loss: 0.9785062074661255\n",
      "Epoch_ 69 , nmi 0.7732 , ari 0.6264 , ami 0.7726 , homogeneity 0.7815 , completeness 0.7651 , v_measure 0.7732\n",
      " 79 loss: 0.9745822548866272\n",
      "Epoch_ 79 , nmi 0.7583 , ari 0.6169 , ami 0.7576 , homogeneity 0.7665 , completeness 0.7503 , v_measure 0.7583\n",
      "xunlian\n",
      "name: acm\n",
      "NMI : 0.7820\n",
      "ARI : 0.6518\n",
      "AMI  : 0.7814\n",
      "fitting ...\n",
      "  |======================================================================| 100%\n",
      "Epoch_  0 , nmi 0.8149 , ari 0.7566 , ami 0.8144 , homogeneity 0.8540 , completeness 0.7793 , v_measure 0.8149\n",
      "聚类方法为mclust\n",
      "test\n",
      "name: acm\n",
      "NMI : 0.8149\n",
      "ARI : 0.7566\n",
      "AMI  : 0.8144\n"
     ]
    }
   ],
   "source": [
    "args.n_clusters1=len(set(label))\n",
    "args.n_clusters2=len(set(label))\n",
    "adj_train=create_adj(adata_omics1)\n",
    "adj_train = adj_train.to(device)\n",
    "features_omics1_train = torch.FloatTensor(adata_omics1.X.copy()).to(device)\n",
    "model = creat_model('spamgcn', args).to(device)\n",
    "model=Train(80, model,adata_omics1, features_omics1_train, adj_train, label, device, args)\n",
    "nmi, ari, ami, homogeneity, completeness, v_measure=Test(model,adata_omics1,features_omics1_train,adj_train,label,device,args,'mclust')\n"
   ]
  }
 ],
 "metadata": {
  "kernelspec": {
   "display_name": "GraphST",
   "language": "python",
   "name": "python3"
  },
  "language_info": {
   "codemirror_mode": {
    "name": "ipython",
    "version": 3
   },
   "file_extension": ".py",
   "mimetype": "text/x-python",
   "name": "python",
   "nbconvert_exporter": "python",
   "pygments_lexer": "ipython3",
   "version": "3.8.15"
  }
 },
 "nbformat": 4,
 "nbformat_minor": 2
}
